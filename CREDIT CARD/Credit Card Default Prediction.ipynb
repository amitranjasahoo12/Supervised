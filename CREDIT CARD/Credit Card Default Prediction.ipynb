{
 "cells": [
  {
   "cell_type": "markdown",
   "id": "59f00387",
   "metadata": {},
   "source": [
    "# Problem Statement:\n",
    "\n",
    "Financial threats are displaying a trend about the credit risk of commercial banks as the\n",
    "incredible improvement in the financial industry has arisen. In this way, one of the\n",
    "biggest threats faces by commercial banks is the risk prediction of credit clients. The\n",
    "goal is to predict the probability of credit default based on credit card owner's\n",
    "characteristics and payment history."
   ]
  },
  {
   "cell_type": "markdown",
   "id": "bc860241",
   "metadata": {},
   "source": [
    "# Data Set Information:\n",
    "\n",
    "This research aimed at the case of customers default payments in Taiwan and compares the predictive accuracy of probability of default among six data mining methods. From the perspective of risk management, the result of predictive accuracy of the estimated probability of default will be more valuable than the binary result of classification - credible or not credible clients. Because the real probability of default is unknown, this study presented the novel Sorting Smoothing Method to estimate the real probability of default. With the real probability of default as the response variable (Y), and the predictive probability of default as the independent variable (X), the simple linear regression result (Y = A + BX) shows that the forecasting model produced by artificial neural network has the highest coefficient of determination; its regression intercept (A) is close to zero, and regression coefficient (B) to one. Therefore, among the six data mining techniques, artificial neural network is the only one that can accurately estimate the real probability of default.\n",
    "\n"
   ]
  },
  {
   "cell_type": "markdown",
   "id": "cf2fe7a2",
   "metadata": {},
   "source": [
    "# Attribute Information:\n",
    "\n",
    "This research employed a binary variable, default payment (Yes = 1, No = 0), \n",
    "as the response variable. This study reviewed the literature and used the following 23 variables as explanatory variables:\n",
    "\n",
    "There are 25 variables:\n",
    "\n",
    "    ID: ID of each client\n",
    "    \n",
    "    LIMIT_BAL: Amount of given credit in NT dollars (includes individual and family/supplementary credit\n",
    "    \n",
    "    SEX: Gender (1=male, 2=female)\n",
    "    \n",
    "    EDUCATION: (1=graduate school, 2=university, 3=high school, 4=others, 5=unknown, 6=unknown)\n",
    "    \n",
    "    MARRIAGE: Marital status (1=married, 2=single, 3=others)\n",
    "    \n",
    "    AGE: Age in years\n",
    "    \n",
    "    PAY_0: Repayment status in September, 2005 (-1=pay duly, 1=payment delay for one month, 2=payment delay for two months, … 8=payment delay for eight months, 9=payment delay for nine months and above)\n",
    "    \n",
    "    PAY_2: Repayment status in August, 2005 (scale same as above)\n",
    "    \n",
    "    PAY_3: Repayment status in July, 2005 (scale same as above)\n",
    "    \n",
    "    PAY_4: Repayment status in June, 2005 (scale same as above)\n",
    "    \n",
    "    PAY_5: Repayment status in May, 2005 (scale same as above)\n",
    "    \n",
    "    PAY_6: Repayment status in April, 2005 (scale same as above)\n",
    "    \n",
    "    BILL_AMT1: Amount of bill statement in September, 2005 (NT dollar)\n",
    "    \n",
    "    BILL_AMT2: Amount of bill statement in August, 2005 (NT dollar)\n",
    "    \n",
    "    BILL_AMT3: Amount of bill statement in July, 2005 (NT dollar)\n",
    "    \n",
    "    BILL_AMT4: Amount of bill statement in June, 2005 (NT dollar)\n",
    "    \n",
    "    BILL_AMT5: Amount of bill statement in May, 2005 (NT dollar)\n",
    "    \n",
    "    BILL_AMT6: Amount of bill statement in April, 2005 (NT dollar)\n",
    "    \n",
    "    PAY_AMT1: Amount of previous payment in September, 2005 (NT dollar)\n",
    "    \n",
    "    PAY_AMT2: Amount of previous payment in August, 2005 (NT dollar)\n",
    "    \n",
    "    PAY_AMT3: Amount of previous payment in July, 2005 (NT dollar)\n",
    "    \n",
    "    PAY_AMT4: Amount of previous payment in June, 2005 (NT dollar)\n",
    "    \n",
    "    PAY_AMT5: Amount of previous payment in May, 2005 (NT dollar)\n",
    "    \n",
    "    PAY_AMT6: Amount of previous payment in April, 2005 (NT dollar)\n",
    "    \n",
    "    default.payment.next.month: Default payment (1=yes, 0=no)\n",
    "\n"
   ]
  },
  {
   "cell_type": "markdown",
   "id": "bafb7669",
   "metadata": {},
   "source": [
    "# IMPORT LIBRARIES"
   ]
  },
  {
   "cell_type": "code",
   "execution_count": 1,
   "id": "9f911170",
   "metadata": {},
   "outputs": [],
   "source": [
    "# import libraries\n",
    "\n",
    "import numpy as np\n",
    "import pandas as pd\n",
    "import seaborn as sns\n",
    "import matplotlib.pyplot as plt\n",
    "import warnings\n",
    "%matplotlib inline\n",
    "warnings.filterwarnings(\"ignore\")"
   ]
  },
  {
   "cell_type": "code",
   "execution_count": 2,
   "id": "9d7b0bef",
   "metadata": {},
   "outputs": [],
   "source": [
    "credit_data=pd.read_csv(\"UCI_Credit_Card.csv\")"
   ]
  },
  {
   "cell_type": "code",
   "execution_count": 3,
   "id": "639bace4",
   "metadata": {},
   "outputs": [
    {
     "data": {
      "text/html": [
       "<div>\n",
       "<style scoped>\n",
       "    .dataframe tbody tr th:only-of-type {\n",
       "        vertical-align: middle;\n",
       "    }\n",
       "\n",
       "    .dataframe tbody tr th {\n",
       "        vertical-align: top;\n",
       "    }\n",
       "\n",
       "    .dataframe thead th {\n",
       "        text-align: right;\n",
       "    }\n",
       "</style>\n",
       "<table border=\"1\" class=\"dataframe\">\n",
       "  <thead>\n",
       "    <tr style=\"text-align: right;\">\n",
       "      <th></th>\n",
       "      <th>ID</th>\n",
       "      <th>LIMIT_BAL</th>\n",
       "      <th>SEX</th>\n",
       "      <th>EDUCATION</th>\n",
       "      <th>MARRIAGE</th>\n",
       "      <th>AGE</th>\n",
       "      <th>PAY_0</th>\n",
       "      <th>PAY_2</th>\n",
       "      <th>PAY_3</th>\n",
       "      <th>PAY_4</th>\n",
       "      <th>...</th>\n",
       "      <th>BILL_AMT4</th>\n",
       "      <th>BILL_AMT5</th>\n",
       "      <th>BILL_AMT6</th>\n",
       "      <th>PAY_AMT1</th>\n",
       "      <th>PAY_AMT2</th>\n",
       "      <th>PAY_AMT3</th>\n",
       "      <th>PAY_AMT4</th>\n",
       "      <th>PAY_AMT5</th>\n",
       "      <th>PAY_AMT6</th>\n",
       "      <th>default.payment.next.month</th>\n",
       "    </tr>\n",
       "  </thead>\n",
       "  <tbody>\n",
       "    <tr>\n",
       "      <th>0</th>\n",
       "      <td>1</td>\n",
       "      <td>20000.0</td>\n",
       "      <td>2</td>\n",
       "      <td>2</td>\n",
       "      <td>1</td>\n",
       "      <td>24</td>\n",
       "      <td>2</td>\n",
       "      <td>2</td>\n",
       "      <td>-1</td>\n",
       "      <td>-1</td>\n",
       "      <td>...</td>\n",
       "      <td>0.0</td>\n",
       "      <td>0.0</td>\n",
       "      <td>0.0</td>\n",
       "      <td>0.0</td>\n",
       "      <td>689.0</td>\n",
       "      <td>0.0</td>\n",
       "      <td>0.0</td>\n",
       "      <td>0.0</td>\n",
       "      <td>0.0</td>\n",
       "      <td>1</td>\n",
       "    </tr>\n",
       "    <tr>\n",
       "      <th>1</th>\n",
       "      <td>2</td>\n",
       "      <td>120000.0</td>\n",
       "      <td>2</td>\n",
       "      <td>2</td>\n",
       "      <td>2</td>\n",
       "      <td>26</td>\n",
       "      <td>-1</td>\n",
       "      <td>2</td>\n",
       "      <td>0</td>\n",
       "      <td>0</td>\n",
       "      <td>...</td>\n",
       "      <td>3272.0</td>\n",
       "      <td>3455.0</td>\n",
       "      <td>3261.0</td>\n",
       "      <td>0.0</td>\n",
       "      <td>1000.0</td>\n",
       "      <td>1000.0</td>\n",
       "      <td>1000.0</td>\n",
       "      <td>0.0</td>\n",
       "      <td>2000.0</td>\n",
       "      <td>1</td>\n",
       "    </tr>\n",
       "    <tr>\n",
       "      <th>2</th>\n",
       "      <td>3</td>\n",
       "      <td>90000.0</td>\n",
       "      <td>2</td>\n",
       "      <td>2</td>\n",
       "      <td>2</td>\n",
       "      <td>34</td>\n",
       "      <td>0</td>\n",
       "      <td>0</td>\n",
       "      <td>0</td>\n",
       "      <td>0</td>\n",
       "      <td>...</td>\n",
       "      <td>14331.0</td>\n",
       "      <td>14948.0</td>\n",
       "      <td>15549.0</td>\n",
       "      <td>1518.0</td>\n",
       "      <td>1500.0</td>\n",
       "      <td>1000.0</td>\n",
       "      <td>1000.0</td>\n",
       "      <td>1000.0</td>\n",
       "      <td>5000.0</td>\n",
       "      <td>0</td>\n",
       "    </tr>\n",
       "    <tr>\n",
       "      <th>3</th>\n",
       "      <td>4</td>\n",
       "      <td>50000.0</td>\n",
       "      <td>2</td>\n",
       "      <td>2</td>\n",
       "      <td>1</td>\n",
       "      <td>37</td>\n",
       "      <td>0</td>\n",
       "      <td>0</td>\n",
       "      <td>0</td>\n",
       "      <td>0</td>\n",
       "      <td>...</td>\n",
       "      <td>28314.0</td>\n",
       "      <td>28959.0</td>\n",
       "      <td>29547.0</td>\n",
       "      <td>2000.0</td>\n",
       "      <td>2019.0</td>\n",
       "      <td>1200.0</td>\n",
       "      <td>1100.0</td>\n",
       "      <td>1069.0</td>\n",
       "      <td>1000.0</td>\n",
       "      <td>0</td>\n",
       "    </tr>\n",
       "    <tr>\n",
       "      <th>4</th>\n",
       "      <td>5</td>\n",
       "      <td>50000.0</td>\n",
       "      <td>1</td>\n",
       "      <td>2</td>\n",
       "      <td>1</td>\n",
       "      <td>57</td>\n",
       "      <td>-1</td>\n",
       "      <td>0</td>\n",
       "      <td>-1</td>\n",
       "      <td>0</td>\n",
       "      <td>...</td>\n",
       "      <td>20940.0</td>\n",
       "      <td>19146.0</td>\n",
       "      <td>19131.0</td>\n",
       "      <td>2000.0</td>\n",
       "      <td>36681.0</td>\n",
       "      <td>10000.0</td>\n",
       "      <td>9000.0</td>\n",
       "      <td>689.0</td>\n",
       "      <td>679.0</td>\n",
       "      <td>0</td>\n",
       "    </tr>\n",
       "    <tr>\n",
       "      <th>...</th>\n",
       "      <td>...</td>\n",
       "      <td>...</td>\n",
       "      <td>...</td>\n",
       "      <td>...</td>\n",
       "      <td>...</td>\n",
       "      <td>...</td>\n",
       "      <td>...</td>\n",
       "      <td>...</td>\n",
       "      <td>...</td>\n",
       "      <td>...</td>\n",
       "      <td>...</td>\n",
       "      <td>...</td>\n",
       "      <td>...</td>\n",
       "      <td>...</td>\n",
       "      <td>...</td>\n",
       "      <td>...</td>\n",
       "      <td>...</td>\n",
       "      <td>...</td>\n",
       "      <td>...</td>\n",
       "      <td>...</td>\n",
       "      <td>...</td>\n",
       "    </tr>\n",
       "    <tr>\n",
       "      <th>29995</th>\n",
       "      <td>29996</td>\n",
       "      <td>220000.0</td>\n",
       "      <td>1</td>\n",
       "      <td>3</td>\n",
       "      <td>1</td>\n",
       "      <td>39</td>\n",
       "      <td>0</td>\n",
       "      <td>0</td>\n",
       "      <td>0</td>\n",
       "      <td>0</td>\n",
       "      <td>...</td>\n",
       "      <td>88004.0</td>\n",
       "      <td>31237.0</td>\n",
       "      <td>15980.0</td>\n",
       "      <td>8500.0</td>\n",
       "      <td>20000.0</td>\n",
       "      <td>5003.0</td>\n",
       "      <td>3047.0</td>\n",
       "      <td>5000.0</td>\n",
       "      <td>1000.0</td>\n",
       "      <td>0</td>\n",
       "    </tr>\n",
       "    <tr>\n",
       "      <th>29996</th>\n",
       "      <td>29997</td>\n",
       "      <td>150000.0</td>\n",
       "      <td>1</td>\n",
       "      <td>3</td>\n",
       "      <td>2</td>\n",
       "      <td>43</td>\n",
       "      <td>-1</td>\n",
       "      <td>-1</td>\n",
       "      <td>-1</td>\n",
       "      <td>-1</td>\n",
       "      <td>...</td>\n",
       "      <td>8979.0</td>\n",
       "      <td>5190.0</td>\n",
       "      <td>0.0</td>\n",
       "      <td>1837.0</td>\n",
       "      <td>3526.0</td>\n",
       "      <td>8998.0</td>\n",
       "      <td>129.0</td>\n",
       "      <td>0.0</td>\n",
       "      <td>0.0</td>\n",
       "      <td>0</td>\n",
       "    </tr>\n",
       "    <tr>\n",
       "      <th>29997</th>\n",
       "      <td>29998</td>\n",
       "      <td>30000.0</td>\n",
       "      <td>1</td>\n",
       "      <td>2</td>\n",
       "      <td>2</td>\n",
       "      <td>37</td>\n",
       "      <td>4</td>\n",
       "      <td>3</td>\n",
       "      <td>2</td>\n",
       "      <td>-1</td>\n",
       "      <td>...</td>\n",
       "      <td>20878.0</td>\n",
       "      <td>20582.0</td>\n",
       "      <td>19357.0</td>\n",
       "      <td>0.0</td>\n",
       "      <td>0.0</td>\n",
       "      <td>22000.0</td>\n",
       "      <td>4200.0</td>\n",
       "      <td>2000.0</td>\n",
       "      <td>3100.0</td>\n",
       "      <td>1</td>\n",
       "    </tr>\n",
       "    <tr>\n",
       "      <th>29998</th>\n",
       "      <td>29999</td>\n",
       "      <td>80000.0</td>\n",
       "      <td>1</td>\n",
       "      <td>3</td>\n",
       "      <td>1</td>\n",
       "      <td>41</td>\n",
       "      <td>1</td>\n",
       "      <td>-1</td>\n",
       "      <td>0</td>\n",
       "      <td>0</td>\n",
       "      <td>...</td>\n",
       "      <td>52774.0</td>\n",
       "      <td>11855.0</td>\n",
       "      <td>48944.0</td>\n",
       "      <td>85900.0</td>\n",
       "      <td>3409.0</td>\n",
       "      <td>1178.0</td>\n",
       "      <td>1926.0</td>\n",
       "      <td>52964.0</td>\n",
       "      <td>1804.0</td>\n",
       "      <td>1</td>\n",
       "    </tr>\n",
       "    <tr>\n",
       "      <th>29999</th>\n",
       "      <td>30000</td>\n",
       "      <td>50000.0</td>\n",
       "      <td>1</td>\n",
       "      <td>2</td>\n",
       "      <td>1</td>\n",
       "      <td>46</td>\n",
       "      <td>0</td>\n",
       "      <td>0</td>\n",
       "      <td>0</td>\n",
       "      <td>0</td>\n",
       "      <td>...</td>\n",
       "      <td>36535.0</td>\n",
       "      <td>32428.0</td>\n",
       "      <td>15313.0</td>\n",
       "      <td>2078.0</td>\n",
       "      <td>1800.0</td>\n",
       "      <td>1430.0</td>\n",
       "      <td>1000.0</td>\n",
       "      <td>1000.0</td>\n",
       "      <td>1000.0</td>\n",
       "      <td>1</td>\n",
       "    </tr>\n",
       "  </tbody>\n",
       "</table>\n",
       "<p>30000 rows × 25 columns</p>\n",
       "</div>"
      ],
      "text/plain": [
       "          ID  LIMIT_BAL  SEX  EDUCATION  MARRIAGE  AGE  PAY_0  PAY_2  PAY_3  \\\n",
       "0          1    20000.0    2          2         1   24      2      2     -1   \n",
       "1          2   120000.0    2          2         2   26     -1      2      0   \n",
       "2          3    90000.0    2          2         2   34      0      0      0   \n",
       "3          4    50000.0    2          2         1   37      0      0      0   \n",
       "4          5    50000.0    1          2         1   57     -1      0     -1   \n",
       "...      ...        ...  ...        ...       ...  ...    ...    ...    ...   \n",
       "29995  29996   220000.0    1          3         1   39      0      0      0   \n",
       "29996  29997   150000.0    1          3         2   43     -1     -1     -1   \n",
       "29997  29998    30000.0    1          2         2   37      4      3      2   \n",
       "29998  29999    80000.0    1          3         1   41      1     -1      0   \n",
       "29999  30000    50000.0    1          2         1   46      0      0      0   \n",
       "\n",
       "       PAY_4  ...  BILL_AMT4  BILL_AMT5  BILL_AMT6  PAY_AMT1  PAY_AMT2  \\\n",
       "0         -1  ...        0.0        0.0        0.0       0.0     689.0   \n",
       "1          0  ...     3272.0     3455.0     3261.0       0.0    1000.0   \n",
       "2          0  ...    14331.0    14948.0    15549.0    1518.0    1500.0   \n",
       "3          0  ...    28314.0    28959.0    29547.0    2000.0    2019.0   \n",
       "4          0  ...    20940.0    19146.0    19131.0    2000.0   36681.0   \n",
       "...      ...  ...        ...        ...        ...       ...       ...   \n",
       "29995      0  ...    88004.0    31237.0    15980.0    8500.0   20000.0   \n",
       "29996     -1  ...     8979.0     5190.0        0.0    1837.0    3526.0   \n",
       "29997     -1  ...    20878.0    20582.0    19357.0       0.0       0.0   \n",
       "29998      0  ...    52774.0    11855.0    48944.0   85900.0    3409.0   \n",
       "29999      0  ...    36535.0    32428.0    15313.0    2078.0    1800.0   \n",
       "\n",
       "       PAY_AMT3  PAY_AMT4  PAY_AMT5  PAY_AMT6  default.payment.next.month  \n",
       "0           0.0       0.0       0.0       0.0                           1  \n",
       "1        1000.0    1000.0       0.0    2000.0                           1  \n",
       "2        1000.0    1000.0    1000.0    5000.0                           0  \n",
       "3        1200.0    1100.0    1069.0    1000.0                           0  \n",
       "4       10000.0    9000.0     689.0     679.0                           0  \n",
       "...         ...       ...       ...       ...                         ...  \n",
       "29995    5003.0    3047.0    5000.0    1000.0                           0  \n",
       "29996    8998.0     129.0       0.0       0.0                           0  \n",
       "29997   22000.0    4200.0    2000.0    3100.0                           1  \n",
       "29998    1178.0    1926.0   52964.0    1804.0                           1  \n",
       "29999    1430.0    1000.0    1000.0    1000.0                           1  \n",
       "\n",
       "[30000 rows x 25 columns]"
      ]
     },
     "execution_count": 3,
     "metadata": {},
     "output_type": "execute_result"
    }
   ],
   "source": [
    "credit_data"
   ]
  },
  {
   "cell_type": "markdown",
   "id": "507d6474",
   "metadata": {},
   "source": [
    "from pandas_profiling import ProfileReport\n",
    "profile = ProfileReport(credit_data)\n",
    "profile"
   ]
  },
  {
   "cell_type": "code",
   "execution_count": 4,
   "id": "69c77110",
   "metadata": {},
   "outputs": [
    {
     "data": {
      "text/plain": [
       "Index(['ID', 'LIMIT_BAL', 'SEX', 'EDUCATION', 'MARRIAGE', 'AGE', 'PAY_0',\n",
       "       'PAY_2', 'PAY_3', 'PAY_4', 'PAY_5', 'PAY_6', 'BILL_AMT1', 'BILL_AMT2',\n",
       "       'BILL_AMT3', 'BILL_AMT4', 'BILL_AMT5', 'BILL_AMT6', 'PAY_AMT1',\n",
       "       'PAY_AMT2', 'PAY_AMT3', 'PAY_AMT4', 'PAY_AMT5', 'PAY_AMT6',\n",
       "       'default.payment.next.month'],\n",
       "      dtype='object')"
      ]
     },
     "execution_count": 4,
     "metadata": {},
     "output_type": "execute_result"
    }
   ],
   "source": [
    "credit_data.columns"
   ]
  },
  {
   "cell_type": "code",
   "execution_count": 5,
   "id": "b8cded0d",
   "metadata": {},
   "outputs": [
    {
     "data": {
      "text/plain": [
       "(30000, 25)"
      ]
     },
     "execution_count": 5,
     "metadata": {},
     "output_type": "execute_result"
    }
   ],
   "source": [
    "credit_data.shape"
   ]
  },
  {
   "cell_type": "code",
   "execution_count": 6,
   "id": "7882bc07",
   "metadata": {},
   "outputs": [
    {
     "name": "stdout",
     "output_type": "stream",
     "text": [
      "Features names:  Index(['ID', 'LIMIT_BAL', 'SEX', 'EDUCATION', 'MARRIAGE', 'AGE', 'PAY_0',\n",
      "       'PAY_2', 'PAY_3', 'PAY_4', 'PAY_5', 'PAY_6', 'BILL_AMT1', 'BILL_AMT2',\n",
      "       'BILL_AMT3', 'BILL_AMT4', 'BILL_AMT5', 'BILL_AMT6', 'PAY_AMT1',\n",
      "       'PAY_AMT2', 'PAY_AMT3', 'PAY_AMT4', 'PAY_AMT5', 'PAY_AMT6',\n",
      "       'default.payment.next.month'],\n",
      "      dtype='object')\n",
      "\n",
      "\n",
      "\n",
      "\n",
      "Number of rows and columns:  (30000, 25)\n"
     ]
    }
   ],
   "source": [
    "print(\"Features names: \",credit_data.columns)\n",
    "print(3*'\\n')\n",
    "print(\"Number of rows and columns: \", credit_data.shape)"
   ]
  },
  {
   "cell_type": "code",
   "execution_count": 7,
   "id": "b348f4d4",
   "metadata": {},
   "outputs": [
    {
     "name": "stdout",
     "output_type": "stream",
     "text": [
      "<class 'pandas.core.frame.DataFrame'>\n",
      "RangeIndex: 30000 entries, 0 to 29999\n",
      "Data columns (total 25 columns):\n",
      " #   Column                      Non-Null Count  Dtype  \n",
      "---  ------                      --------------  -----  \n",
      " 0   ID                          30000 non-null  int64  \n",
      " 1   LIMIT_BAL                   30000 non-null  float64\n",
      " 2   SEX                         30000 non-null  int64  \n",
      " 3   EDUCATION                   30000 non-null  int64  \n",
      " 4   MARRIAGE                    30000 non-null  int64  \n",
      " 5   AGE                         30000 non-null  int64  \n",
      " 6   PAY_0                       30000 non-null  int64  \n",
      " 7   PAY_2                       30000 non-null  int64  \n",
      " 8   PAY_3                       30000 non-null  int64  \n",
      " 9   PAY_4                       30000 non-null  int64  \n",
      " 10  PAY_5                       30000 non-null  int64  \n",
      " 11  PAY_6                       30000 non-null  int64  \n",
      " 12  BILL_AMT1                   30000 non-null  float64\n",
      " 13  BILL_AMT2                   30000 non-null  float64\n",
      " 14  BILL_AMT3                   30000 non-null  float64\n",
      " 15  BILL_AMT4                   30000 non-null  float64\n",
      " 16  BILL_AMT5                   30000 non-null  float64\n",
      " 17  BILL_AMT6                   30000 non-null  float64\n",
      " 18  PAY_AMT1                    30000 non-null  float64\n",
      " 19  PAY_AMT2                    30000 non-null  float64\n",
      " 20  PAY_AMT3                    30000 non-null  float64\n",
      " 21  PAY_AMT4                    30000 non-null  float64\n",
      " 22  PAY_AMT5                    30000 non-null  float64\n",
      " 23  PAY_AMT6                    30000 non-null  float64\n",
      " 24  default.payment.next.month  30000 non-null  int64  \n",
      "dtypes: float64(13), int64(12)\n",
      "memory usage: 5.7 MB\n"
     ]
    }
   ],
   "source": [
    "credit_data.info()"
   ]
  },
  {
   "cell_type": "code",
   "execution_count": 8,
   "id": "34c08ef0",
   "metadata": {},
   "outputs": [
    {
     "data": {
      "text/html": [
       "<div>\n",
       "<style scoped>\n",
       "    .dataframe tbody tr th:only-of-type {\n",
       "        vertical-align: middle;\n",
       "    }\n",
       "\n",
       "    .dataframe tbody tr th {\n",
       "        vertical-align: top;\n",
       "    }\n",
       "\n",
       "    .dataframe thead th {\n",
       "        text-align: right;\n",
       "    }\n",
       "</style>\n",
       "<table border=\"1\" class=\"dataframe\">\n",
       "  <thead>\n",
       "    <tr style=\"text-align: right;\">\n",
       "      <th></th>\n",
       "      <th>count</th>\n",
       "      <th>mean</th>\n",
       "      <th>std</th>\n",
       "      <th>min</th>\n",
       "      <th>25%</th>\n",
       "      <th>50%</th>\n",
       "      <th>75%</th>\n",
       "      <th>max</th>\n",
       "    </tr>\n",
       "  </thead>\n",
       "  <tbody>\n",
       "    <tr>\n",
       "      <th>ID</th>\n",
       "      <td>30000.0</td>\n",
       "      <td>15000.500000</td>\n",
       "      <td>8660.398374</td>\n",
       "      <td>1.0</td>\n",
       "      <td>7500.75</td>\n",
       "      <td>15000.5</td>\n",
       "      <td>22500.25</td>\n",
       "      <td>30000.0</td>\n",
       "    </tr>\n",
       "    <tr>\n",
       "      <th>LIMIT_BAL</th>\n",
       "      <td>30000.0</td>\n",
       "      <td>167484.322667</td>\n",
       "      <td>129747.661567</td>\n",
       "      <td>10000.0</td>\n",
       "      <td>50000.00</td>\n",
       "      <td>140000.0</td>\n",
       "      <td>240000.00</td>\n",
       "      <td>1000000.0</td>\n",
       "    </tr>\n",
       "    <tr>\n",
       "      <th>SEX</th>\n",
       "      <td>30000.0</td>\n",
       "      <td>1.603733</td>\n",
       "      <td>0.489129</td>\n",
       "      <td>1.0</td>\n",
       "      <td>1.00</td>\n",
       "      <td>2.0</td>\n",
       "      <td>2.00</td>\n",
       "      <td>2.0</td>\n",
       "    </tr>\n",
       "    <tr>\n",
       "      <th>EDUCATION</th>\n",
       "      <td>30000.0</td>\n",
       "      <td>1.853133</td>\n",
       "      <td>0.790349</td>\n",
       "      <td>0.0</td>\n",
       "      <td>1.00</td>\n",
       "      <td>2.0</td>\n",
       "      <td>2.00</td>\n",
       "      <td>6.0</td>\n",
       "    </tr>\n",
       "    <tr>\n",
       "      <th>MARRIAGE</th>\n",
       "      <td>30000.0</td>\n",
       "      <td>1.551867</td>\n",
       "      <td>0.521970</td>\n",
       "      <td>0.0</td>\n",
       "      <td>1.00</td>\n",
       "      <td>2.0</td>\n",
       "      <td>2.00</td>\n",
       "      <td>3.0</td>\n",
       "    </tr>\n",
       "    <tr>\n",
       "      <th>AGE</th>\n",
       "      <td>30000.0</td>\n",
       "      <td>35.485500</td>\n",
       "      <td>9.217904</td>\n",
       "      <td>21.0</td>\n",
       "      <td>28.00</td>\n",
       "      <td>34.0</td>\n",
       "      <td>41.00</td>\n",
       "      <td>79.0</td>\n",
       "    </tr>\n",
       "    <tr>\n",
       "      <th>PAY_0</th>\n",
       "      <td>30000.0</td>\n",
       "      <td>-0.016700</td>\n",
       "      <td>1.123802</td>\n",
       "      <td>-2.0</td>\n",
       "      <td>-1.00</td>\n",
       "      <td>0.0</td>\n",
       "      <td>0.00</td>\n",
       "      <td>8.0</td>\n",
       "    </tr>\n",
       "    <tr>\n",
       "      <th>PAY_2</th>\n",
       "      <td>30000.0</td>\n",
       "      <td>-0.133767</td>\n",
       "      <td>1.197186</td>\n",
       "      <td>-2.0</td>\n",
       "      <td>-1.00</td>\n",
       "      <td>0.0</td>\n",
       "      <td>0.00</td>\n",
       "      <td>8.0</td>\n",
       "    </tr>\n",
       "    <tr>\n",
       "      <th>PAY_3</th>\n",
       "      <td>30000.0</td>\n",
       "      <td>-0.166200</td>\n",
       "      <td>1.196868</td>\n",
       "      <td>-2.0</td>\n",
       "      <td>-1.00</td>\n",
       "      <td>0.0</td>\n",
       "      <td>0.00</td>\n",
       "      <td>8.0</td>\n",
       "    </tr>\n",
       "    <tr>\n",
       "      <th>PAY_4</th>\n",
       "      <td>30000.0</td>\n",
       "      <td>-0.220667</td>\n",
       "      <td>1.169139</td>\n",
       "      <td>-2.0</td>\n",
       "      <td>-1.00</td>\n",
       "      <td>0.0</td>\n",
       "      <td>0.00</td>\n",
       "      <td>8.0</td>\n",
       "    </tr>\n",
       "    <tr>\n",
       "      <th>PAY_5</th>\n",
       "      <td>30000.0</td>\n",
       "      <td>-0.266200</td>\n",
       "      <td>1.133187</td>\n",
       "      <td>-2.0</td>\n",
       "      <td>-1.00</td>\n",
       "      <td>0.0</td>\n",
       "      <td>0.00</td>\n",
       "      <td>8.0</td>\n",
       "    </tr>\n",
       "    <tr>\n",
       "      <th>PAY_6</th>\n",
       "      <td>30000.0</td>\n",
       "      <td>-0.291100</td>\n",
       "      <td>1.149988</td>\n",
       "      <td>-2.0</td>\n",
       "      <td>-1.00</td>\n",
       "      <td>0.0</td>\n",
       "      <td>0.00</td>\n",
       "      <td>8.0</td>\n",
       "    </tr>\n",
       "    <tr>\n",
       "      <th>BILL_AMT1</th>\n",
       "      <td>30000.0</td>\n",
       "      <td>51223.330900</td>\n",
       "      <td>73635.860576</td>\n",
       "      <td>-165580.0</td>\n",
       "      <td>3558.75</td>\n",
       "      <td>22381.5</td>\n",
       "      <td>67091.00</td>\n",
       "      <td>964511.0</td>\n",
       "    </tr>\n",
       "    <tr>\n",
       "      <th>BILL_AMT2</th>\n",
       "      <td>30000.0</td>\n",
       "      <td>49179.075167</td>\n",
       "      <td>71173.768783</td>\n",
       "      <td>-69777.0</td>\n",
       "      <td>2984.75</td>\n",
       "      <td>21200.0</td>\n",
       "      <td>64006.25</td>\n",
       "      <td>983931.0</td>\n",
       "    </tr>\n",
       "    <tr>\n",
       "      <th>BILL_AMT3</th>\n",
       "      <td>30000.0</td>\n",
       "      <td>47013.154800</td>\n",
       "      <td>69349.387427</td>\n",
       "      <td>-157264.0</td>\n",
       "      <td>2666.25</td>\n",
       "      <td>20088.5</td>\n",
       "      <td>60164.75</td>\n",
       "      <td>1664089.0</td>\n",
       "    </tr>\n",
       "    <tr>\n",
       "      <th>BILL_AMT4</th>\n",
       "      <td>30000.0</td>\n",
       "      <td>43262.948967</td>\n",
       "      <td>64332.856134</td>\n",
       "      <td>-170000.0</td>\n",
       "      <td>2326.75</td>\n",
       "      <td>19052.0</td>\n",
       "      <td>54506.00</td>\n",
       "      <td>891586.0</td>\n",
       "    </tr>\n",
       "    <tr>\n",
       "      <th>BILL_AMT5</th>\n",
       "      <td>30000.0</td>\n",
       "      <td>40311.400967</td>\n",
       "      <td>60797.155770</td>\n",
       "      <td>-81334.0</td>\n",
       "      <td>1763.00</td>\n",
       "      <td>18104.5</td>\n",
       "      <td>50190.50</td>\n",
       "      <td>927171.0</td>\n",
       "    </tr>\n",
       "    <tr>\n",
       "      <th>BILL_AMT6</th>\n",
       "      <td>30000.0</td>\n",
       "      <td>38871.760400</td>\n",
       "      <td>59554.107537</td>\n",
       "      <td>-339603.0</td>\n",
       "      <td>1256.00</td>\n",
       "      <td>17071.0</td>\n",
       "      <td>49198.25</td>\n",
       "      <td>961664.0</td>\n",
       "    </tr>\n",
       "    <tr>\n",
       "      <th>PAY_AMT1</th>\n",
       "      <td>30000.0</td>\n",
       "      <td>5663.580500</td>\n",
       "      <td>16563.280354</td>\n",
       "      <td>0.0</td>\n",
       "      <td>1000.00</td>\n",
       "      <td>2100.0</td>\n",
       "      <td>5006.00</td>\n",
       "      <td>873552.0</td>\n",
       "    </tr>\n",
       "    <tr>\n",
       "      <th>PAY_AMT2</th>\n",
       "      <td>30000.0</td>\n",
       "      <td>5921.163500</td>\n",
       "      <td>23040.870402</td>\n",
       "      <td>0.0</td>\n",
       "      <td>833.00</td>\n",
       "      <td>2009.0</td>\n",
       "      <td>5000.00</td>\n",
       "      <td>1684259.0</td>\n",
       "    </tr>\n",
       "    <tr>\n",
       "      <th>PAY_AMT3</th>\n",
       "      <td>30000.0</td>\n",
       "      <td>5225.681500</td>\n",
       "      <td>17606.961470</td>\n",
       "      <td>0.0</td>\n",
       "      <td>390.00</td>\n",
       "      <td>1800.0</td>\n",
       "      <td>4505.00</td>\n",
       "      <td>896040.0</td>\n",
       "    </tr>\n",
       "    <tr>\n",
       "      <th>PAY_AMT4</th>\n",
       "      <td>30000.0</td>\n",
       "      <td>4826.076867</td>\n",
       "      <td>15666.159744</td>\n",
       "      <td>0.0</td>\n",
       "      <td>296.00</td>\n",
       "      <td>1500.0</td>\n",
       "      <td>4013.25</td>\n",
       "      <td>621000.0</td>\n",
       "    </tr>\n",
       "    <tr>\n",
       "      <th>PAY_AMT5</th>\n",
       "      <td>30000.0</td>\n",
       "      <td>4799.387633</td>\n",
       "      <td>15278.305679</td>\n",
       "      <td>0.0</td>\n",
       "      <td>252.50</td>\n",
       "      <td>1500.0</td>\n",
       "      <td>4031.50</td>\n",
       "      <td>426529.0</td>\n",
       "    </tr>\n",
       "    <tr>\n",
       "      <th>PAY_AMT6</th>\n",
       "      <td>30000.0</td>\n",
       "      <td>5215.502567</td>\n",
       "      <td>17777.465775</td>\n",
       "      <td>0.0</td>\n",
       "      <td>117.75</td>\n",
       "      <td>1500.0</td>\n",
       "      <td>4000.00</td>\n",
       "      <td>528666.0</td>\n",
       "    </tr>\n",
       "    <tr>\n",
       "      <th>default.payment.next.month</th>\n",
       "      <td>30000.0</td>\n",
       "      <td>0.221200</td>\n",
       "      <td>0.415062</td>\n",
       "      <td>0.0</td>\n",
       "      <td>0.00</td>\n",
       "      <td>0.0</td>\n",
       "      <td>0.00</td>\n",
       "      <td>1.0</td>\n",
       "    </tr>\n",
       "  </tbody>\n",
       "</table>\n",
       "</div>"
      ],
      "text/plain": [
       "                              count           mean            std       min  \\\n",
       "ID                          30000.0   15000.500000    8660.398374       1.0   \n",
       "LIMIT_BAL                   30000.0  167484.322667  129747.661567   10000.0   \n",
       "SEX                         30000.0       1.603733       0.489129       1.0   \n",
       "EDUCATION                   30000.0       1.853133       0.790349       0.0   \n",
       "MARRIAGE                    30000.0       1.551867       0.521970       0.0   \n",
       "AGE                         30000.0      35.485500       9.217904      21.0   \n",
       "PAY_0                       30000.0      -0.016700       1.123802      -2.0   \n",
       "PAY_2                       30000.0      -0.133767       1.197186      -2.0   \n",
       "PAY_3                       30000.0      -0.166200       1.196868      -2.0   \n",
       "PAY_4                       30000.0      -0.220667       1.169139      -2.0   \n",
       "PAY_5                       30000.0      -0.266200       1.133187      -2.0   \n",
       "PAY_6                       30000.0      -0.291100       1.149988      -2.0   \n",
       "BILL_AMT1                   30000.0   51223.330900   73635.860576 -165580.0   \n",
       "BILL_AMT2                   30000.0   49179.075167   71173.768783  -69777.0   \n",
       "BILL_AMT3                   30000.0   47013.154800   69349.387427 -157264.0   \n",
       "BILL_AMT4                   30000.0   43262.948967   64332.856134 -170000.0   \n",
       "BILL_AMT5                   30000.0   40311.400967   60797.155770  -81334.0   \n",
       "BILL_AMT6                   30000.0   38871.760400   59554.107537 -339603.0   \n",
       "PAY_AMT1                    30000.0    5663.580500   16563.280354       0.0   \n",
       "PAY_AMT2                    30000.0    5921.163500   23040.870402       0.0   \n",
       "PAY_AMT3                    30000.0    5225.681500   17606.961470       0.0   \n",
       "PAY_AMT4                    30000.0    4826.076867   15666.159744       0.0   \n",
       "PAY_AMT5                    30000.0    4799.387633   15278.305679       0.0   \n",
       "PAY_AMT6                    30000.0    5215.502567   17777.465775       0.0   \n",
       "default.payment.next.month  30000.0       0.221200       0.415062       0.0   \n",
       "\n",
       "                                 25%       50%        75%        max  \n",
       "ID                           7500.75   15000.5   22500.25    30000.0  \n",
       "LIMIT_BAL                   50000.00  140000.0  240000.00  1000000.0  \n",
       "SEX                             1.00       2.0       2.00        2.0  \n",
       "EDUCATION                       1.00       2.0       2.00        6.0  \n",
       "MARRIAGE                        1.00       2.0       2.00        3.0  \n",
       "AGE                            28.00      34.0      41.00       79.0  \n",
       "PAY_0                          -1.00       0.0       0.00        8.0  \n",
       "PAY_2                          -1.00       0.0       0.00        8.0  \n",
       "PAY_3                          -1.00       0.0       0.00        8.0  \n",
       "PAY_4                          -1.00       0.0       0.00        8.0  \n",
       "PAY_5                          -1.00       0.0       0.00        8.0  \n",
       "PAY_6                          -1.00       0.0       0.00        8.0  \n",
       "BILL_AMT1                    3558.75   22381.5   67091.00   964511.0  \n",
       "BILL_AMT2                    2984.75   21200.0   64006.25   983931.0  \n",
       "BILL_AMT3                    2666.25   20088.5   60164.75  1664089.0  \n",
       "BILL_AMT4                    2326.75   19052.0   54506.00   891586.0  \n",
       "BILL_AMT5                    1763.00   18104.5   50190.50   927171.0  \n",
       "BILL_AMT6                    1256.00   17071.0   49198.25   961664.0  \n",
       "PAY_AMT1                     1000.00    2100.0    5006.00   873552.0  \n",
       "PAY_AMT2                      833.00    2009.0    5000.00  1684259.0  \n",
       "PAY_AMT3                      390.00    1800.0    4505.00   896040.0  \n",
       "PAY_AMT4                      296.00    1500.0    4013.25   621000.0  \n",
       "PAY_AMT5                      252.50    1500.0    4031.50   426529.0  \n",
       "PAY_AMT6                      117.75    1500.0    4000.00   528666.0  \n",
       "default.payment.next.month      0.00       0.0       0.00        1.0  "
      ]
     },
     "execution_count": 8,
     "metadata": {},
     "output_type": "execute_result"
    }
   ],
   "source": [
    "credit_data.describe().T "
   ]
  },
  {
   "cell_type": "markdown",
   "id": "659639d0",
   "metadata": {},
   "source": [
    "# EDA"
   ]
  },
  {
   "cell_type": "code",
   "execution_count": null,
   "id": "803f8cf5",
   "metadata": {},
   "outputs": [],
   "source": [
    "credit_data.drop('ID', axis = 1, inplace =True) # drop column \"ID\""
   ]
  },
  {
   "cell_type": "code",
   "execution_count": null,
   "id": "7e9ea222",
   "metadata": {},
   "outputs": [],
   "source": [
    "credit_data.columns"
   ]
  },
  {
   "cell_type": "code",
   "execution_count": 9,
   "id": "6c5964aa",
   "metadata": {},
   "outputs": [
    {
     "name": "stdout",
     "output_type": "stream",
     "text": [
      "Numbers of null values in credit_data's every variables: ID                            0\n",
      "LIMIT_BAL                     0\n",
      "SEX                           0\n",
      "EDUCATION                     0\n",
      "MARRIAGE                      0\n",
      "AGE                           0\n",
      "PAY_0                         0\n",
      "PAY_2                         0\n",
      "PAY_3                         0\n",
      "PAY_4                         0\n",
      "PAY_5                         0\n",
      "PAY_6                         0\n",
      "BILL_AMT1                     0\n",
      "BILL_AMT2                     0\n",
      "BILL_AMT3                     0\n",
      "BILL_AMT4                     0\n",
      "BILL_AMT5                     0\n",
      "BILL_AMT6                     0\n",
      "PAY_AMT1                      0\n",
      "PAY_AMT2                      0\n",
      "PAY_AMT3                      0\n",
      "PAY_AMT4                      0\n",
      "PAY_AMT5                      0\n",
      "PAY_AMT6                      0\n",
      "default.payment.next.month    0\n",
      "dtype: int64\n",
      "\n",
      "\n",
      "\n",
      "\n",
      "\n",
      "\n",
      "\n",
      "\n",
      "\n"
     ]
    },
    {
     "data": {
      "text/plain": [
       "<AxesSubplot:>"
      ]
     },
     "execution_count": 9,
     "metadata": {},
     "output_type": "execute_result"
    },
    {
     "data": {
      "image/png": "[encoded data removed]",
      "text/plain": [
       "<Figure size 432x288 with 2 Axes>"
      ]
     },
     "metadata": {
      "needs_background": "light"
     },
     "output_type": "display_data"
    }
   ],
   "source": [
    "print(\"Numbers of null values in credit_data's every variables:\",credit_data.isnull().sum())\n",
    "print(8*\"\\n\")\n",
    "sns.heatmap(credit_data.isnull(),yticklabels=False)\n",
    "# heat map used to checke whether there is null value or not"
   ]
  },
  {
   "cell_type": "code",
   "execution_count": 36,
   "id": "d0c72e2f",
   "metadata": {},
   "outputs": [
    {
     "data": {
      "text/plain": [
       "['SEX', 'EDUCATION', 'MARRIAGE', 'def_pay']"
      ]
     },
     "execution_count": 36,
     "metadata": {},
     "output_type": "execute_result"
    }
   ],
   "source": [
    "#-------------------------loops for known which variable under categorical columns\n",
    "\n",
    "\n",
    "category_features = []\n",
    "threshold = 10\n",
    "for each in credit_data.columns:\n",
    "    if credit_data[each].nunique() < threshold:\n",
    "        category_features.append(each)\n",
    "\n",
    "for each in category_features:\n",
    "    credit_data[each] = credit_data[each].astype('category')\n",
    "    \n",
    "\n",
    "category_features "
   ]
  },
  {
   "cell_type": "code",
   "execution_count": 11,
   "id": "5608bf43",
   "metadata": {},
   "outputs": [
    {
     "data": {
      "text/plain": [
       "ID                            int64\n",
       "SEX                           int64\n",
       "EDUCATION                     int64\n",
       "MARRIAGE                      int64\n",
       "AGE                           int64\n",
       "PAY_0                         int64\n",
       "PAY_2                         int64\n",
       "PAY_3                         int64\n",
       "PAY_4                         int64\n",
       "PAY_5                         int64\n",
       "PAY_6                         int64\n",
       "default.payment.next.month    int64\n",
       "dtype: object"
      ]
     },
     "execution_count": 11,
     "metadata": {},
     "output_type": "execute_result"
    }
   ],
   "source": [
    "credit_data.select_dtypes(include=['category','int']).dtypes"
   ]
  },
  {
   "cell_type": "code",
   "execution_count": 12,
   "id": "9784875e",
   "metadata": {},
   "outputs": [
    {
     "data": {
      "text/plain": [
       "ID                              int64\n",
       "LIMIT_BAL                     float64\n",
       "SEX                             int64\n",
       "EDUCATION                       int64\n",
       "MARRIAGE                        int64\n",
       "AGE                             int64\n",
       "PAY_0                           int64\n",
       "PAY_2                           int64\n",
       "PAY_3                           int64\n",
       "PAY_4                           int64\n",
       "PAY_5                           int64\n",
       "PAY_6                           int64\n",
       "BILL_AMT1                     float64\n",
       "BILL_AMT2                     float64\n",
       "BILL_AMT3                     float64\n",
       "BILL_AMT4                     float64\n",
       "BILL_AMT5                     float64\n",
       "BILL_AMT6                     float64\n",
       "PAY_AMT1                      float64\n",
       "PAY_AMT2                      float64\n",
       "PAY_AMT3                      float64\n",
       "PAY_AMT4                      float64\n",
       "PAY_AMT5                      float64\n",
       "PAY_AMT6                      float64\n",
       "default.payment.next.month      int64\n",
       "dtype: object"
      ]
     },
     "execution_count": 12,
     "metadata": {},
     "output_type": "execute_result"
    }
   ],
   "source": [
    "credit_data.select_dtypes(include=['category','int','float']).dtypes"
   ]
  },
  {
   "cell_type": "code",
   "execution_count": null,
   "id": "15b1dc86",
   "metadata": {},
   "outputs": [],
   "source": []
  },
  {
   "cell_type": "code",
   "execution_count": null,
   "id": "e07105a7",
   "metadata": {},
   "outputs": [],
   "source": []
  },
  {
   "cell_type": "code",
   "execution_count": null,
   "id": "ba23890f",
   "metadata": {},
   "outputs": [],
   "source": []
  },
  {
   "cell_type": "code",
   "execution_count": 18,
   "id": "806bf1c1",
   "metadata": {},
   "outputs": [
    {
     "name": "stdout",
     "output_type": "stream",
     "text": [
      "1-SEX: [2, 1]\n",
      "Categories (2, int64): [1, 2]\n",
      "\n",
      "\n",
      "2    18112\n",
      "1    11888\n",
      "Name: SEX, dtype: int64\n",
      "\n",
      "\n",
      "2-EDUCATION:  [2, 1, 3, 5, 4, 6, 0]\n",
      "Categories (7, int64): [0, 1, 2, 3, 4, 5, 6]\n",
      "\n",
      "\n",
      "2    14030\n",
      "1    10585\n",
      "3     4917\n",
      "5      280\n",
      "4      123\n",
      "6       51\n",
      "0       14\n",
      "Name: EDUCATION, dtype: int64\n",
      "\n",
      "\n",
      "3-MARRIAGE: [1, 2, 3, 0]\n",
      "Categories (4, int64): [0, 1, 2, 3]\n",
      "\n",
      "\n",
      "2    15964\n",
      "1    13659\n",
      "3      323\n",
      "0       54\n",
      "Name: MARRIAGE, dtype: int64\n",
      "\n",
      "\n",
      "4-default.payment.next.month: [1, 0]\n",
      "Categories (2, int64): [0, 1]\n",
      "\n",
      "\n",
      "0    23364\n",
      "1     6636\n",
      "Name: default.payment.next.month, dtype: int64\n"
     ]
    }
   ],
   "source": [
    "#unique value\n",
    "\n",
    "\n",
    "print(\"1-SEX:\",credit_data['SEX'].unique())\n",
    "print(1*\"\\n\")\n",
    "print(credit_data['SEX'].value_counts())\n",
    "print(1*\"\\n\")\n",
    "print(\"2-EDUCATION: \",credit_data['EDUCATION'].unique())\n",
    "print(1*\"\\n\")\n",
    "print(credit_data['EDUCATION'].value_counts())\n",
    "print(1*\"\\n\")\n",
    "print(\"3-MARRIAGE:\",credit_data['MARRIAGE'].unique())\n",
    "print(1*\"\\n\")\n",
    "print(credit_data['MARRIAGE'].value_counts())\n",
    "print(1*\"\\n\")\n",
    "print(\"4-default.payment.next.month:\",credit_data['default.payment.next.month'].unique())\n",
    "print(1*\"\\n\")\n",
    "print(credit_data['default.payment.next.month'].value_counts())"
   ]
  },
  {
   "cell_type": "code",
   "execution_count": null,
   "id": "4d6f7b8f",
   "metadata": {},
   "outputs": [],
   "source": [
    "#-------------------------loops for known which variable under categorical columns\n",
    "\n",
    "\n",
    "category_features = []\n",
    "threshold = 20\n",
    "for each in credit_data.columns:\n",
    "    if credit_data[each].nunique() < threshold:\n",
    "        category_features.append(each)\n",
    "\n",
    "for each in category_features:\n",
    "    credit_data[each] = credit_data[each].astype('category')\n",
    "    \n",
    "\n",
    "category_features "
   ]
  },
  {
   "cell_type": "code",
   "execution_count": 19,
   "id": "fafa132b",
   "metadata": {},
   "outputs": [
    {
     "name": "stdout",
     "output_type": "stream",
     "text": [
      "1-PAY_0: [2, -1, 0, -2, 1, ..., 4, 8, 7, 5, 6]\n",
      "Length: 11\n",
      "Categories (11, int64): [-2, -1, 0, 1, ..., 5, 6, 7, 8]\n",
      "\n",
      "\n",
      "0     14737\n",
      "-1     5686\n",
      "1      3688\n",
      "-2     2759\n",
      "2      2667\n",
      "3       322\n",
      "4        76\n",
      "5        26\n",
      "8        19\n",
      "6        11\n",
      "7         9\n",
      "Name: PAY_0, dtype: int64\n",
      "\n",
      "\n",
      "2-PAY_2:  [2, 0, -1, -2, 3, ..., 7, 4, 1, 6, 8]\n",
      "Length: 11\n",
      "Categories (11, int64): [-2, -1, 0, 1, ..., 5, 6, 7, 8]\n",
      "\n",
      "\n",
      "0     15730\n",
      "-1     6050\n",
      "2      3927\n",
      "-2     3782\n",
      "3       326\n",
      "4        99\n",
      "1        28\n",
      "5        25\n",
      "7        20\n",
      "6        12\n",
      "8         1\n",
      "Name: PAY_2, dtype: int64\n",
      "\n",
      "\n",
      "2-PAY_3:  [-1, 0, 2, -2, 3, ..., 6, 7, 1, 5, 8]\n",
      "Length: 11\n",
      "Categories (11, int64): [-2, -1, 0, 1, ..., 5, 6, 7, 8]\n",
      "\n",
      "\n",
      "0     15764\n",
      "-1     5938\n",
      "-2     4085\n",
      "2      3819\n",
      "3       240\n",
      "4        76\n",
      "7        27\n",
      "6        23\n",
      "5        21\n",
      "1         4\n",
      "8         3\n",
      "Name: PAY_3, dtype: int64\n",
      "\n",
      "\n"
     ]
    }
   ],
   "source": [
    "print(\"1-PAY_0:\",credit_data['PAY_0'].unique())\n",
    "print(1*\"\\n\")\n",
    "print(credit_data['PAY_0'].value_counts())\n",
    "\n",
    "print(1*\"\\n\")\n",
    "\n",
    "print(\"2-PAY_2: \",credit_data['PAY_2'].unique())\n",
    "print(1*\"\\n\")\n",
    "print(credit_data['PAY_2'].value_counts())\n",
    "\n",
    "print(1*\"\\n\")\n",
    "\n",
    "print(\"2-PAY_3: \",credit_data['PAY_3'].unique())\n",
    "print(1*\"\\n\")\n",
    "print(credit_data['PAY_3'].value_counts())\n",
    "\n",
    "print(1*\"\\n\")\n",
    "\n"
   ]
  },
  {
   "cell_type": "code",
   "execution_count": 20,
   "id": "da2e7368",
   "metadata": {},
   "outputs": [
    {
     "name": "stdout",
     "output_type": "stream",
     "text": [
      "2-PAY_4:  [-1, 0, -2, 2, 3, ..., 5, 7, 6, 1, 8]\n",
      "Length: 11\n",
      "Categories (11, int64): [-2, -1, 0, 1, ..., 5, 6, 7, 8]\n",
      "\n",
      "\n",
      "0     16455\n",
      "-1     5687\n",
      "-2     4348\n",
      "2      3159\n",
      "3       180\n",
      "4        69\n",
      "7        58\n",
      "5        35\n",
      "6         5\n",
      "1         2\n",
      "8         2\n",
      "Name: PAY_4, dtype: int64\n",
      "\n",
      "\n",
      "2-PAY_5:  [-2, 0, -1, 2, 3, 5, 4, 7, 8, 6]\n",
      "Categories (10, int64): [-2, -1, 0, 2, ..., 5, 6, 7, 8]\n",
      "\n",
      "\n",
      "0     16947\n",
      "-1     5539\n",
      "-2     4546\n",
      "2      2626\n",
      "3       178\n",
      "4        84\n",
      "7        58\n",
      "5        17\n",
      "6         4\n",
      "8         1\n",
      "Name: PAY_5, dtype: int64\n",
      "\n",
      "\n",
      "2-PAY_6:  [-2, 2, 0, -1, 3, 6, 4, 7, 8, 5]\n",
      "Categories (10, int64): [-2, -1, 0, 2, ..., 5, 6, 7, 8]\n",
      "\n",
      "\n",
      "0     16286\n",
      "-1     5740\n",
      "-2     4895\n",
      "2      2766\n",
      "3       184\n",
      "4        49\n",
      "7        46\n",
      "6        19\n",
      "5        13\n",
      "8         2\n",
      "Name: PAY_6, dtype: int64\n"
     ]
    }
   ],
   "source": [
    "print(\"2-PAY_4: \",credit_data['PAY_4'].unique())\n",
    "print(1*\"\\n\")\n",
    "print(credit_data['PAY_4'].value_counts())\n",
    "\n",
    "print(1*\"\\n\")\n",
    "\n",
    "print(\"2-PAY_5: \",credit_data['PAY_5'].unique())\n",
    "print(1*\"\\n\")\n",
    "print(credit_data['PAY_5'].value_counts())\n",
    "\n",
    "print(1*\"\\n\")\n",
    "\n",
    "print(\"2-PAY_6: \",credit_data['PAY_6'].unique())\n",
    "print(1*\"\\n\")\n",
    "print(credit_data['PAY_6'].value_counts())"
   ]
  },
  {
   "cell_type": "markdown",
   "id": "34a28ed3",
   "metadata": {},
   "source": [
    "### EDUCATION: The categories 4:others, 5:unknown, and 6:unknown and 0 can be grouped into a single class '4'."
   ]
  },
  {
   "cell_type": "code",
   "execution_count": 21,
   "id": "7b09d135",
   "metadata": {},
   "outputs": [],
   "source": [
    "credit_data['EDUCATION']=np.where(credit_data['EDUCATION'] == 5, 4, credit_data['EDUCATION'])\n",
    "credit_data['EDUCATION']=np.where(credit_data['EDUCATION'] == 6, 4, credit_data['EDUCATION'])\n",
    "credit_data['EDUCATION']=np.where(credit_data['EDUCATION'] == 0, 4, credit_data['EDUCATION'])\n"
   ]
  },
  {
   "cell_type": "markdown",
   "id": "4173e5c0",
   "metadata": {},
   "source": [
    "### After grouping, the education column has the following categories:"
   ]
  },
  {
   "cell_type": "code",
   "execution_count": 22,
   "id": "c8fe8c09",
   "metadata": {},
   "outputs": [
    {
     "data": {
      "text/plain": [
       "array([2, 1, 3, 4], dtype=int64)"
      ]
     },
     "execution_count": 22,
     "metadata": {},
     "output_type": "execute_result"
    }
   ],
   "source": [
    "\n",
    "credit_data['EDUCATION'].unique()"
   ]
  },
  {
   "cell_type": "code",
   "execution_count": 23,
   "id": "3d110de4",
   "metadata": {},
   "outputs": [
    {
     "data": {
      "text/plain": [
       "2    14030\n",
       "1    10585\n",
       "3     4917\n",
       "4      468\n",
       "Name: EDUCATION, dtype: int64"
      ]
     },
     "execution_count": 23,
     "metadata": {},
     "output_type": "execute_result"
    }
   ],
   "source": [
    "credit_data['EDUCATION'].value_counts(dropna=False)"
   ]
  },
  {
   "cell_type": "markdown",
   "id": "dca455c6",
   "metadata": {},
   "source": [
    "### Similarly, the column 'marriage' should have three categories: 1 = married, 2 = single, 3 = others but it contains a category '0' which will be joined to the category '3'."
   ]
  },
  {
   "cell_type": "code",
   "execution_count": 24,
   "id": "e51f7e0f",
   "metadata": {},
   "outputs": [
    {
     "data": {
      "text/plain": [
       "[1, 2, 3, 0]\n",
       "Categories (4, int64): [0, 1, 2, 3]"
      ]
     },
     "execution_count": 24,
     "metadata": {},
     "output_type": "execute_result"
    }
   ],
   "source": [
    "credit_data['MARRIAGE'].unique()"
   ]
  },
  {
   "cell_type": "code",
   "execution_count": 25,
   "id": "9a3a68d2",
   "metadata": {},
   "outputs": [],
   "source": [
    "credit_data['MARRIAGE']=np.where(credit_data['MARRIAGE'] == 0, 3,credit_data['MARRIAGE'])"
   ]
  },
  {
   "cell_type": "code",
   "execution_count": 26,
   "id": "e634d254",
   "metadata": {},
   "outputs": [
    {
     "data": {
      "text/plain": [
       "array([1, 2, 3], dtype=int64)"
      ]
     },
     "execution_count": 26,
     "metadata": {},
     "output_type": "execute_result"
    }
   ],
   "source": [
    "credit_data['MARRIAGE'].unique()"
   ]
  },
  {
   "cell_type": "code",
   "execution_count": 27,
   "id": "c98d7308",
   "metadata": {},
   "outputs": [
    {
     "data": {
      "text/plain": [
       "2    15964\n",
       "1    13659\n",
       "3      377\n",
       "Name: MARRIAGE, dtype: int64"
      ]
     },
     "execution_count": 27,
     "metadata": {},
     "output_type": "execute_result"
    }
   ],
   "source": [
    "credit_data['MARRIAGE'].value_counts()"
   ]
  },
  {
   "cell_type": "code",
   "execution_count": 28,
   "id": "9f9167e7",
   "metadata": {},
   "outputs": [],
   "source": [
    "credit_data = credit_data.rename(columns={'default.payment.next.month': 'def_pay', \n",
    "                        'PAY_0': 'PAY_1'})"
   ]
  },
  {
   "cell_type": "code",
   "execution_count": 29,
   "id": "536e94e7",
   "metadata": {},
   "outputs": [
    {
     "data": {
      "text/html": [
       "<div>\n",
       "<style scoped>\n",
       "    .dataframe tbody tr th:only-of-type {\n",
       "        vertical-align: middle;\n",
       "    }\n",
       "\n",
       "    .dataframe tbody tr th {\n",
       "        vertical-align: top;\n",
       "    }\n",
       "\n",
       "    .dataframe thead th {\n",
       "        text-align: right;\n",
       "    }\n",
       "</style>\n",
       "<table border=\"1\" class=\"dataframe\">\n",
       "  <thead>\n",
       "    <tr style=\"text-align: right;\">\n",
       "      <th></th>\n",
       "      <th>ID</th>\n",
       "      <th>LIMIT_BAL</th>\n",
       "      <th>SEX</th>\n",
       "      <th>EDUCATION</th>\n",
       "      <th>MARRIAGE</th>\n",
       "      <th>AGE</th>\n",
       "      <th>PAY_1</th>\n",
       "      <th>PAY_2</th>\n",
       "      <th>PAY_3</th>\n",
       "      <th>PAY_4</th>\n",
       "      <th>...</th>\n",
       "      <th>BILL_AMT4</th>\n",
       "      <th>BILL_AMT5</th>\n",
       "      <th>BILL_AMT6</th>\n",
       "      <th>PAY_AMT1</th>\n",
       "      <th>PAY_AMT2</th>\n",
       "      <th>PAY_AMT3</th>\n",
       "      <th>PAY_AMT4</th>\n",
       "      <th>PAY_AMT5</th>\n",
       "      <th>PAY_AMT6</th>\n",
       "      <th>def_pay</th>\n",
       "    </tr>\n",
       "  </thead>\n",
       "  <tbody>\n",
       "    <tr>\n",
       "      <th>0</th>\n",
       "      <td>1</td>\n",
       "      <td>20000.0</td>\n",
       "      <td>2</td>\n",
       "      <td>2</td>\n",
       "      <td>1</td>\n",
       "      <td>24</td>\n",
       "      <td>2</td>\n",
       "      <td>2</td>\n",
       "      <td>-1</td>\n",
       "      <td>-1</td>\n",
       "      <td>...</td>\n",
       "      <td>0.0</td>\n",
       "      <td>0.0</td>\n",
       "      <td>0.0</td>\n",
       "      <td>0.0</td>\n",
       "      <td>689.0</td>\n",
       "      <td>0.0</td>\n",
       "      <td>0.0</td>\n",
       "      <td>0.0</td>\n",
       "      <td>0.0</td>\n",
       "      <td>1</td>\n",
       "    </tr>\n",
       "    <tr>\n",
       "      <th>1</th>\n",
       "      <td>2</td>\n",
       "      <td>120000.0</td>\n",
       "      <td>2</td>\n",
       "      <td>2</td>\n",
       "      <td>2</td>\n",
       "      <td>26</td>\n",
       "      <td>-1</td>\n",
       "      <td>2</td>\n",
       "      <td>0</td>\n",
       "      <td>0</td>\n",
       "      <td>...</td>\n",
       "      <td>3272.0</td>\n",
       "      <td>3455.0</td>\n",
       "      <td>3261.0</td>\n",
       "      <td>0.0</td>\n",
       "      <td>1000.0</td>\n",
       "      <td>1000.0</td>\n",
       "      <td>1000.0</td>\n",
       "      <td>0.0</td>\n",
       "      <td>2000.0</td>\n",
       "      <td>1</td>\n",
       "    </tr>\n",
       "    <tr>\n",
       "      <th>2</th>\n",
       "      <td>3</td>\n",
       "      <td>90000.0</td>\n",
       "      <td>2</td>\n",
       "      <td>2</td>\n",
       "      <td>2</td>\n",
       "      <td>34</td>\n",
       "      <td>0</td>\n",
       "      <td>0</td>\n",
       "      <td>0</td>\n",
       "      <td>0</td>\n",
       "      <td>...</td>\n",
       "      <td>14331.0</td>\n",
       "      <td>14948.0</td>\n",
       "      <td>15549.0</td>\n",
       "      <td>1518.0</td>\n",
       "      <td>1500.0</td>\n",
       "      <td>1000.0</td>\n",
       "      <td>1000.0</td>\n",
       "      <td>1000.0</td>\n",
       "      <td>5000.0</td>\n",
       "      <td>0</td>\n",
       "    </tr>\n",
       "    <tr>\n",
       "      <th>3</th>\n",
       "      <td>4</td>\n",
       "      <td>50000.0</td>\n",
       "      <td>2</td>\n",
       "      <td>2</td>\n",
       "      <td>1</td>\n",
       "      <td>37</td>\n",
       "      <td>0</td>\n",
       "      <td>0</td>\n",
       "      <td>0</td>\n",
       "      <td>0</td>\n",
       "      <td>...</td>\n",
       "      <td>28314.0</td>\n",
       "      <td>28959.0</td>\n",
       "      <td>29547.0</td>\n",
       "      <td>2000.0</td>\n",
       "      <td>2019.0</td>\n",
       "      <td>1200.0</td>\n",
       "      <td>1100.0</td>\n",
       "      <td>1069.0</td>\n",
       "      <td>1000.0</td>\n",
       "      <td>0</td>\n",
       "    </tr>\n",
       "    <tr>\n",
       "      <th>4</th>\n",
       "      <td>5</td>\n",
       "      <td>50000.0</td>\n",
       "      <td>1</td>\n",
       "      <td>2</td>\n",
       "      <td>1</td>\n",
       "      <td>57</td>\n",
       "      <td>-1</td>\n",
       "      <td>0</td>\n",
       "      <td>-1</td>\n",
       "      <td>0</td>\n",
       "      <td>...</td>\n",
       "      <td>20940.0</td>\n",
       "      <td>19146.0</td>\n",
       "      <td>19131.0</td>\n",
       "      <td>2000.0</td>\n",
       "      <td>36681.0</td>\n",
       "      <td>10000.0</td>\n",
       "      <td>9000.0</td>\n",
       "      <td>689.0</td>\n",
       "      <td>679.0</td>\n",
       "      <td>0</td>\n",
       "    </tr>\n",
       "    <tr>\n",
       "      <th>...</th>\n",
       "      <td>...</td>\n",
       "      <td>...</td>\n",
       "      <td>...</td>\n",
       "      <td>...</td>\n",
       "      <td>...</td>\n",
       "      <td>...</td>\n",
       "      <td>...</td>\n",
       "      <td>...</td>\n",
       "      <td>...</td>\n",
       "      <td>...</td>\n",
       "      <td>...</td>\n",
       "      <td>...</td>\n",
       "      <td>...</td>\n",
       "      <td>...</td>\n",
       "      <td>...</td>\n",
       "      <td>...</td>\n",
       "      <td>...</td>\n",
       "      <td>...</td>\n",
       "      <td>...</td>\n",
       "      <td>...</td>\n",
       "      <td>...</td>\n",
       "    </tr>\n",
       "    <tr>\n",
       "      <th>29995</th>\n",
       "      <td>29996</td>\n",
       "      <td>220000.0</td>\n",
       "      <td>1</td>\n",
       "      <td>3</td>\n",
       "      <td>1</td>\n",
       "      <td>39</td>\n",
       "      <td>0</td>\n",
       "      <td>0</td>\n",
       "      <td>0</td>\n",
       "      <td>0</td>\n",
       "      <td>...</td>\n",
       "      <td>88004.0</td>\n",
       "      <td>31237.0</td>\n",
       "      <td>15980.0</td>\n",
       "      <td>8500.0</td>\n",
       "      <td>20000.0</td>\n",
       "      <td>5003.0</td>\n",
       "      <td>3047.0</td>\n",
       "      <td>5000.0</td>\n",
       "      <td>1000.0</td>\n",
       "      <td>0</td>\n",
       "    </tr>\n",
       "    <tr>\n",
       "      <th>29996</th>\n",
       "      <td>29997</td>\n",
       "      <td>150000.0</td>\n",
       "      <td>1</td>\n",
       "      <td>3</td>\n",
       "      <td>2</td>\n",
       "      <td>43</td>\n",
       "      <td>-1</td>\n",
       "      <td>-1</td>\n",
       "      <td>-1</td>\n",
       "      <td>-1</td>\n",
       "      <td>...</td>\n",
       "      <td>8979.0</td>\n",
       "      <td>5190.0</td>\n",
       "      <td>0.0</td>\n",
       "      <td>1837.0</td>\n",
       "      <td>3526.0</td>\n",
       "      <td>8998.0</td>\n",
       "      <td>129.0</td>\n",
       "      <td>0.0</td>\n",
       "      <td>0.0</td>\n",
       "      <td>0</td>\n",
       "    </tr>\n",
       "    <tr>\n",
       "      <th>29997</th>\n",
       "      <td>29998</td>\n",
       "      <td>30000.0</td>\n",
       "      <td>1</td>\n",
       "      <td>2</td>\n",
       "      <td>2</td>\n",
       "      <td>37</td>\n",
       "      <td>4</td>\n",
       "      <td>3</td>\n",
       "      <td>2</td>\n",
       "      <td>-1</td>\n",
       "      <td>...</td>\n",
       "      <td>20878.0</td>\n",
       "      <td>20582.0</td>\n",
       "      <td>19357.0</td>\n",
       "      <td>0.0</td>\n",
       "      <td>0.0</td>\n",
       "      <td>22000.0</td>\n",
       "      <td>4200.0</td>\n",
       "      <td>2000.0</td>\n",
       "      <td>3100.0</td>\n",
       "      <td>1</td>\n",
       "    </tr>\n",
       "    <tr>\n",
       "      <th>29998</th>\n",
       "      <td>29999</td>\n",
       "      <td>80000.0</td>\n",
       "      <td>1</td>\n",
       "      <td>3</td>\n",
       "      <td>1</td>\n",
       "      <td>41</td>\n",
       "      <td>1</td>\n",
       "      <td>-1</td>\n",
       "      <td>0</td>\n",
       "      <td>0</td>\n",
       "      <td>...</td>\n",
       "      <td>52774.0</td>\n",
       "      <td>11855.0</td>\n",
       "      <td>48944.0</td>\n",
       "      <td>85900.0</td>\n",
       "      <td>3409.0</td>\n",
       "      <td>1178.0</td>\n",
       "      <td>1926.0</td>\n",
       "      <td>52964.0</td>\n",
       "      <td>1804.0</td>\n",
       "      <td>1</td>\n",
       "    </tr>\n",
       "    <tr>\n",
       "      <th>29999</th>\n",
       "      <td>30000</td>\n",
       "      <td>50000.0</td>\n",
       "      <td>1</td>\n",
       "      <td>2</td>\n",
       "      <td>1</td>\n",
       "      <td>46</td>\n",
       "      <td>0</td>\n",
       "      <td>0</td>\n",
       "      <td>0</td>\n",
       "      <td>0</td>\n",
       "      <td>...</td>\n",
       "      <td>36535.0</td>\n",
       "      <td>32428.0</td>\n",
       "      <td>15313.0</td>\n",
       "      <td>2078.0</td>\n",
       "      <td>1800.0</td>\n",
       "      <td>1430.0</td>\n",
       "      <td>1000.0</td>\n",
       "      <td>1000.0</td>\n",
       "      <td>1000.0</td>\n",
       "      <td>1</td>\n",
       "    </tr>\n",
       "  </tbody>\n",
       "</table>\n",
       "<p>30000 rows × 25 columns</p>\n",
       "</div>"
      ],
      "text/plain": [
       "          ID LIMIT_BAL SEX  EDUCATION  MARRIAGE AGE PAY_1 PAY_2 PAY_3 PAY_4  \\\n",
       "0          1   20000.0   2          2         1  24     2     2    -1    -1   \n",
       "1          2  120000.0   2          2         2  26    -1     2     0     0   \n",
       "2          3   90000.0   2          2         2  34     0     0     0     0   \n",
       "3          4   50000.0   2          2         1  37     0     0     0     0   \n",
       "4          5   50000.0   1          2         1  57    -1     0    -1     0   \n",
       "...      ...       ...  ..        ...       ...  ..   ...   ...   ...   ...   \n",
       "29995  29996  220000.0   1          3         1  39     0     0     0     0   \n",
       "29996  29997  150000.0   1          3         2  43    -1    -1    -1    -1   \n",
       "29997  29998   30000.0   1          2         2  37     4     3     2    -1   \n",
       "29998  29999   80000.0   1          3         1  41     1    -1     0     0   \n",
       "29999  30000   50000.0   1          2         1  46     0     0     0     0   \n",
       "\n",
       "       ... BILL_AMT4 BILL_AMT5  BILL_AMT6  PAY_AMT1  PAY_AMT2  PAY_AMT3  \\\n",
       "0      ...       0.0       0.0        0.0       0.0     689.0       0.0   \n",
       "1      ...    3272.0    3455.0     3261.0       0.0    1000.0    1000.0   \n",
       "2      ...   14331.0   14948.0    15549.0    1518.0    1500.0    1000.0   \n",
       "3      ...   28314.0   28959.0    29547.0    2000.0    2019.0    1200.0   \n",
       "4      ...   20940.0   19146.0    19131.0    2000.0   36681.0   10000.0   \n",
       "...    ...       ...       ...        ...       ...       ...       ...   \n",
       "29995  ...   88004.0   31237.0    15980.0    8500.0   20000.0    5003.0   \n",
       "29996  ...    8979.0    5190.0        0.0    1837.0    3526.0    8998.0   \n",
       "29997  ...   20878.0   20582.0    19357.0       0.0       0.0   22000.0   \n",
       "29998  ...   52774.0   11855.0    48944.0   85900.0    3409.0    1178.0   \n",
       "29999  ...   36535.0   32428.0    15313.0    2078.0    1800.0    1430.0   \n",
       "\n",
       "       PAY_AMT4  PAY_AMT5  PAY_AMT6  def_pay  \n",
       "0           0.0       0.0       0.0        1  \n",
       "1        1000.0       0.0    2000.0        1  \n",
       "2        1000.0    1000.0    5000.0        0  \n",
       "3        1100.0    1069.0    1000.0        0  \n",
       "4        9000.0     689.0     679.0        0  \n",
       "...         ...       ...       ...      ...  \n",
       "29995    3047.0    5000.0    1000.0        0  \n",
       "29996     129.0       0.0       0.0        0  \n",
       "29997    4200.0    2000.0    3100.0        1  \n",
       "29998    1926.0   52964.0    1804.0        1  \n",
       "29999    1000.0    1000.0    1000.0        1  \n",
       "\n",
       "[30000 rows x 25 columns]"
      ]
     },
     "execution_count": 29,
     "metadata": {},
     "output_type": "execute_result"
    }
   ],
   "source": [
    "credit_data "
   ]
  },
  {
   "cell_type": "code",
   "execution_count": null,
   "id": "67f1e2d9",
   "metadata": {},
   "outputs": [],
   "source": [
    "credit_data.describe().T # stat tool use to check the stat analysisi"
   ]
  },
  {
   "cell_type": "code",
   "execution_count": null,
   "id": "fa83edd9",
   "metadata": {},
   "outputs": [],
   "source": []
  },
  {
   "cell_type": "markdown",
   "id": "a1f46127",
   "metadata": {},
   "source": [
    "# Credit_data Visualization"
   ]
  },
  {
   "cell_type": "code",
   "execution_count": 30,
   "id": "fd67d3c9",
   "metadata": {},
   "outputs": [
    {
     "data": {
      "text/plain": [
       "Index(['ID', 'LIMIT_BAL', 'SEX', 'EDUCATION', 'MARRIAGE', 'AGE', 'PAY_1',\n",
       "       'PAY_2', 'PAY_3', 'PAY_4', 'PAY_5', 'PAY_6', 'BILL_AMT1', 'BILL_AMT2',\n",
       "       'BILL_AMT3', 'BILL_AMT4', 'BILL_AMT5', 'BILL_AMT6', 'PAY_AMT1',\n",
       "       'PAY_AMT2', 'PAY_AMT3', 'PAY_AMT4', 'PAY_AMT5', 'PAY_AMT6', 'def_pay'],\n",
       "      dtype='object')"
      ]
     },
     "execution_count": 30,
     "metadata": {},
     "output_type": "execute_result"
    }
   ],
   "source": [
    "credit_data.columns"
   ]
  },
  {
   "cell_type": "code",
   "execution_count": 31,
   "id": "342bcca7",
   "metadata": {},
   "outputs": [
    {
     "data": {
      "image/png": "[encoded data removed]",
      "text/plain": [
       "<Figure size 1440x1800 with 24 Axes>"
      ]
     },
     "metadata": {},
     "output_type": "display_data"
    },
    {
     "data": {
      "text/plain": [
       "<Figure size 432x288 with 0 Axes>"
      ]
     },
     "metadata": {},
     "output_type": "display_data"
    }
   ],
   "source": [
    "# let's see how data is distributed for every column\n",
    "plt.figure(figsize=(20,25), facecolor='white')\n",
    "plotnumber = 1\n",
    "\n",
    "for column in credit_data:\n",
    "    if plotnumber<=24 :     # as there are 24 columns in the data\n",
    "        ax = plt.subplot(6,4,plotnumber)\n",
    "        sns.distplot(credit_data[column])\n",
    "        plt.xlabel(column,fontsize=20)\n",
    "        \n",
    "    plotnumber+=1\n",
    "plt.show()\n",
    "\n",
    "plt.savefig('Distribution plot.png')"
   ]
  },
  {
   "cell_type": "code",
   "execution_count": 45,
   "id": "e37158d8",
   "metadata": {},
   "outputs": [
    {
     "data": {
      "text/plain": [
       "<seaborn.axisgrid.FacetGrid at 0x1a60c952f70>"
      ]
     },
     "execution_count": 45,
     "metadata": {},
     "output_type": "execute_result"
    },
    {
     "data": {
      "image/png": "[encoded data removed]",
      "text/plain": [
       "<Figure size 360x360 with 1 Axes>"
      ]
     },
     "metadata": {
      "needs_background": "light"
     },
     "output_type": "display_data"
    },
    {
     "data": {
      "image/png": "[encoded data removed]",
      "text/plain": [
       "<Figure size 360x360 with 1 Axes>"
      ]
     },
     "metadata": {
      "needs_background": "light"
     },
     "output_type": "display_data"
    },
    {
     "data": {
      "image/png": "[encoded data removed]",
      "text/plain": [
       "<Figure size 360x360 with 1 Axes>"
      ]
     },
     "metadata": {
      "needs_background": "light"
     },
     "output_type": "display_data"
    }
   ],
   "source": [
    "sns.displot(credit_data, x=\"BILL_AMT1\", kind=\"kde\")\n",
    "sns.displot(credit_data, x=\"BILL_AMT1\",kde=True)\n",
    "sns.displot(credit_data, x=\"BILL_AMT1\")"
   ]
  },
  {
   "cell_type": "code",
   "execution_count": 48,
   "id": "75be6c27",
   "metadata": {},
   "outputs": [
    {
     "data": {
      "text/plain": [
       "<AxesSubplot:xlabel='BILL_AMT1'>"
      ]
     },
     "execution_count": 48,
     "metadata": {},
     "output_type": "execute_result"
    },
    {
     "data": {
      "image/png": "[encoded data removed]",
      "text/plain": [
       "<Figure size 432x288 with 1 Axes>"
      ]
     },
     "metadata": {
      "needs_background": "light"
     },
     "output_type": "display_data"
    }
   ],
   "source": [
    "#credit_data.hist(column='BILL_AMT1', bins=25, grid=False, figsize=(12,8), color='#86bf91', zorder=2, rwidth=0.9)\n",
    "sns.boxplot(x=credit_data[\"BILL_AMT1\"])"
   ]
  },
  {
   "cell_type": "code",
   "execution_count": null,
   "id": "3ea1436d",
   "metadata": {},
   "outputs": [],
   "source": [
    "# let's see how data is distributed for every column\n",
    "plt.figure(figsize=(20,25), facecolor='white')\n",
    "plotnumber = 1\n",
    "\n",
    "for column in credit_data:\n",
    "    if plotnumber<=24 :     # as there are 24 columns in the data\n",
    "        ax = plt.subplot(6,4,plotnumber)\n",
    "        sns.histplot(credit_data[column])\n",
    "        plt.xlabel(column,fontsize=20)\n",
    "        \n",
    "    plotnumber+=1\n",
    "plt.show()\n",
    "\n",
    "plt.savefig('Histogram plot.png')"
   ]
  },
  {
   "cell_type": "code",
   "execution_count": null,
   "id": "a114fb2b",
   "metadata": {},
   "outputs": [],
   "source": [
    "# let's see how data is distributed for every column\n",
    "plt.figure(figsize=(20,25), facecolor='white')\n",
    "plotnumber = 1\n",
    "\n",
    "for column in credit_data:\n",
    "    if plotnumber<=9 :\n",
    "        ax = plt.subplot(4,4,plotnumber)\n",
    "        plt.scatter(predict_car[column], predict_car[\"def_pay\"])\n",
    "        plt.xlabel(column,fontsize=20)\n",
    "        \n",
    "    plotnumber+=1\n",
    "plt.tight_layout()\n",
    "\n",
    "plt.savefig('scatter plot.png')"
   ]
  },
  {
   "cell_type": "markdown",
   "id": "d70cd883",
   "metadata": {},
   "source": [
    "# BAR PLOT"
   ]
  },
  {
   "cell_type": "code",
   "execution_count": null,
   "id": "85335891",
   "metadata": {},
   "outputs": [],
   "source": [
    "#default.payment.next.month: Default payment (1=yes, 0=no)\n",
    "\n",
    "# Stacked barplot with pandas\n",
    "YES = credit_data.loc[credit_data['def_pay']==1, :]['def_pay'].value_counts()\n",
    "NO     = credit_data.loc[credit_data['def_pay']==0, :]['def_pay'].value_counts()\n",
    "credit_data_plot  = pd.DataFrame([YES,NO])\n",
    "credit_data_plot.index=[\"YES\",\"NO\"]\n",
    "\n",
    "# Plot\n",
    "credit_data_plot.plot(kind='bar',stacked=True, title='Stacked Bar plot');"
   ]
  },
  {
   "cell_type": "code",
   "execution_count": null,
   "id": "19ac1885",
   "metadata": {},
   "outputs": [],
   "source": [
    "credit_data.columns"
   ]
  },
  {
   "cell_type": "code",
   "execution_count": null,
   "id": "43aa67dc",
   "metadata": {},
   "outputs": [],
   "source": [
    "#SEX: Gender (1=male, 2=female)\n",
    "# Stacked barplot with pandas\n",
    "MALE = credit_data.loc[credit_data['SEX']==1, :]['SEX'].value_counts()\n",
    "FEMALE     = credit_data.loc[credit_data['SEX']==2, :]['SEX'].value_counts()\n",
    "credit_data_plot  = pd.DataFrame([MALE,FEMALE])\n",
    "credit_data_plot.index=[\"MALE\",\"FEMALE\"]\n",
    "\n",
    "# Plot\n",
    "credit_data_plot.plot(kind='bar',stacked=True, title='Stacked Bar plot');"
   ]
  },
  {
   "cell_type": "code",
   "execution_count": null,
   "id": "98e2ed4e",
   "metadata": {},
   "outputs": [],
   "source": [
    "# Stacked barplot with pandas with differnt palette\n",
    "MALE = credit_data.loc[credit_data['SEX']==1, :]['def_pay'].value_counts()\n",
    "FEMALE     = credit_data.loc[credit_data['SEX']==2, :]['def_pay'].value_counts()\n",
    "\n",
    "credit_data_plot  = pd.DataFrame([MALE,FEMALE])\n",
    "credit_data_plot.index=[\"MALE\",\"FEMALE\"]\n",
    "\n",
    "\n",
    "# Bar plot\n",
    "credit_data_plot.plot(kind='bar',stacked=True, colormap='Spectral', title='Stacked Bar plot with Spectral Palette');"
   ]
  },
  {
   "cell_type": "code",
   "execution_count": null,
   "id": "8f30725b",
   "metadata": {},
   "outputs": [],
   "source": [
    "#EDUCATION: (1=graduate school, 2=university, 3=high school, 4=others, 5=unknown, 6=unknown)\n",
    "# Stacked barplot with pandas with differnt palette\n",
    "graduate_school = credit_data.loc[credit_data['EDUCATION']==1, :]['def_pay'].value_counts()\n",
    "university     = credit_data.loc[credit_data['EDUCATION']==2, :]['def_pay'].value_counts()\n",
    "high_school= credit_data.loc[credit_data['EDUCATION']==3, :]['def_pay'].value_counts()\n",
    "others= credit_data.loc[credit_data['EDUCATION']==4, :]['def_pay'].value_counts()\n",
    "credit_data_plot  = pd.DataFrame([graduate_school,university,high_school,others])\n",
    "credit_data_plot.index=[\"graduate schoo\",\"university\",\"high school\",\"others\"]\n",
    "\n",
    "\n",
    "# Bar plot\n",
    "credit_data_plot.plot(kind='bar',stacked=True, colormap='Spectral', title='Stacked Bar plot with Spectral Palette');"
   ]
  },
  {
   "cell_type": "code",
   "execution_count": null,
   "id": "dd66c29d",
   "metadata": {},
   "outputs": [],
   "source": [
    "# Stacked barplot with pandas with differnt palette\n",
    "graduate_school = credit_data.loc[credit_data['EDUCATION']==1, :]['SEX'].value_counts()\n",
    "university     = credit_data.loc[credit_data['EDUCATION']==2, :]['SEX'].value_counts()\n",
    "high_school= credit_data.loc[credit_data['EDUCATION']==3, :]['SEX'].value_counts()\n",
    "others= credit_data.loc[credit_data['EDUCATION']==4, :]['SEX'].value_counts()\n",
    "credit_data_plot  = pd.DataFrame([graduate_school,university,high_school,others])\n",
    "credit_data_plot.index=[\"graduate schoo\",\"university\",\"high school\",\"others\"]\n",
    "\n",
    "\n",
    "# Bar plot\n",
    "credit_data_plot.plot(kind='bar',stacked=True, colormap='Spectral', title='Stacked Bar plot with Spectral Palette');"
   ]
  },
  {
   "cell_type": "markdown",
   "id": "98243a4a",
   "metadata": {},
   "source": [
    "# Outlier Detection:"
   ]
  },
  {
   "cell_type": "code",
   "execution_count": null,
   "id": "e82b1526",
   "metadata": {},
   "outputs": [],
   "source": [
    "\n",
    "fig, ax = plt.subplots(figsize=(15,10))\n",
    "sns.boxplot(data=credit_data, width= 0.5,ax=ax,  fliersize=3)"
   ]
  },
  {
   "cell_type": "code",
   "execution_count": null,
   "id": "07fd4676",
   "metadata": {},
   "outputs": [],
   "source": [
    "credit_data.columns"
   ]
  },
  {
   "cell_type": "code",
   "execution_count": null,
   "id": "9736369d",
   "metadata": {},
   "outputs": [],
   "source": [
    "data=credit_data[['LIMIT_BAL', 'BILL_AMT1', 'BILL_AMT2',\n",
    "       'BILL_AMT3', 'BILL_AMT4', 'BILL_AMT5', 'BILL_AMT6', 'PAY_AMT1',\n",
    "       'PAY_AMT2', 'PAY_AMT3', 'PAY_AMT4', 'PAY_AMT5', 'PAY_AMT6']]"
   ]
  },
  {
   "cell_type": "code",
   "execution_count": null,
   "id": "8a51bad7",
   "metadata": {},
   "outputs": [],
   "source": [
    "# create a box plot\n",
    "fig , ax = plt.subplots(ncols=7,nrows=2,figsize=(20,10))\n",
    "index=0\n",
    "ax = ax.flatten()\n",
    "\n",
    "for col, value in data.items():\n",
    "    sns.boxplot(y=col,data= credit_data, ax = ax[index])\n",
    "    index += 1\n",
    "    \n",
    "plt.tight_layout(pad=0.5, w_pad=0.7, h_pad=5.0) "
   ]
  },
  {
   "cell_type": "code",
   "execution_count": null,
   "id": "cb83313a",
   "metadata": {},
   "outputs": [],
   "source": []
  },
  {
   "cell_type": "code",
   "execution_count": null,
   "id": "d725f6d0",
   "metadata": {},
   "outputs": [],
   "source": [
    "fig, ax = plt.subplots(figsize=(15,10))\n",
    "sns.boxplot(data=data, width= 0.5,ax=ax,  fliersize=3)"
   ]
  },
  {
   "cell_type": "markdown",
   "id": "513a0ef3",
   "metadata": {},
   "source": [
    "# function to create diagnostic plots"
   ]
  },
  {
   "cell_type": "code",
   "execution_count": null,
   "id": "804af230",
   "metadata": {},
   "outputs": [],
   "source": [
    "def plotvarible(df, variable):\n",
    "    plt.figure(figsize=(16,4))\n",
    "    \n",
    "    #Histogram\n",
    "    \n",
    "    plt.subplot(1,2,1)\n",
    "    plt.hist(df[variable],alpha=0.5)\n",
    "    \n",
    "    #boxplot\n",
    "    \n",
    "    plt.subplot(1,2,2)\n",
    "    plt.boxplot(df[variable])\n",
    "    plt.show()\n",
    "    \n",
    "    "
   ]
  },
  {
   "cell_type": "code",
   "execution_count": null,
   "id": "6983cfc9",
   "metadata": {},
   "outputs": [],
   "source": [
    "plotvarible(credit_data, \"LIMIT_BAL\")"
   ]
  },
  {
   "cell_type": "code",
   "execution_count": null,
   "id": "e4beb791",
   "metadata": {},
   "outputs": [],
   "source": [
    "plotvarible(credit_data, \"BILL_AMT1\")"
   ]
  },
  {
   "cell_type": "code",
   "execution_count": null,
   "id": "1b804b15",
   "metadata": {},
   "outputs": [],
   "source": [
    "plotvarible(credit_data, \"BILL_AMT2\")"
   ]
  },
  {
   "cell_type": "code",
   "execution_count": null,
   "id": "7e49c712",
   "metadata": {},
   "outputs": [],
   "source": [
    "plotvarible(credit_data, \"BILL_AMT3\")"
   ]
  },
  {
   "cell_type": "code",
   "execution_count": null,
   "id": "c21255ee",
   "metadata": {},
   "outputs": [],
   "source": [
    "plotvarible(credit_data, \"BILL_AMT4\")"
   ]
  },
  {
   "cell_type": "code",
   "execution_count": null,
   "id": "87b6acfe",
   "metadata": {},
   "outputs": [],
   "source": [
    "plotvarible(credit_data, \"BILL_AMT5\")"
   ]
  },
  {
   "cell_type": "code",
   "execution_count": null,
   "id": "89817684",
   "metadata": {},
   "outputs": [],
   "source": [
    "plotvarible(credit_data, \"BILL_AMT6\")"
   ]
  },
  {
   "cell_type": "code",
   "execution_count": null,
   "id": "96766ce8",
   "metadata": {},
   "outputs": [],
   "source": [
    "plotvarible(credit_data, \"PAY_AMT1\")"
   ]
  },
  {
   "cell_type": "code",
   "execution_count": null,
   "id": "80f7130f",
   "metadata": {},
   "outputs": [],
   "source": [
    "plotvarible(credit_data, \"PAY_AMT2\")"
   ]
  },
  {
   "cell_type": "code",
   "execution_count": null,
   "id": "da1aaed1",
   "metadata": {},
   "outputs": [],
   "source": [
    "plotvarible(credit_data, \"PAY_AMT3\")"
   ]
  },
  {
   "cell_type": "code",
   "execution_count": null,
   "id": "11fd4152",
   "metadata": {},
   "outputs": [],
   "source": [
    "plotvarible(credit_data, \"PAY_AMT4\")"
   ]
  },
  {
   "cell_type": "code",
   "execution_count": null,
   "id": "28a1efae",
   "metadata": {},
   "outputs": [],
   "source": [
    "plotvarible(credit_data, \"PAY_AMT5\")"
   ]
  },
  {
   "cell_type": "code",
   "execution_count": null,
   "id": "3c76bdd7",
   "metadata": {},
   "outputs": [],
   "source": [
    "plotvarible(credit_data, \"PAY_AMT6\")"
   ]
  },
  {
   "cell_type": "code",
   "execution_count": null,
   "id": "54bb667e",
   "metadata": {},
   "outputs": [],
   "source": [
    "data"
   ]
  },
  {
   "cell_type": "code",
   "execution_count": null,
   "id": "54270944",
   "metadata": {},
   "outputs": [],
   "source": [
    "for col in data:\n",
    "    Q1=data[col].quantile(0.25)\n",
    "    Q3=data[col].quantile(0.75)\n",
    "\n",
    "    IQR=Q3-Q1\n",
    "\n",
    "    upper_limit= Q3+1.5*IQR\n",
    "    lower_limit= Q1-1.5*IQR\n",
    "\n",
    "    top_median= float(data[col].median())\n",
    "    down_median= float(data[col].median())\n",
    "\n",
    "    data[col]=np.where(data[col]>=upper_limit,top_median,data[col])\n",
    "    data[col]=np.where(data[col]<=lower_limit,down_median,data[col]) "
   ]
  },
  {
   "cell_type": "code",
   "execution_count": null,
   "id": "dd5fe328",
   "metadata": {},
   "outputs": [],
   "source": []
  },
  {
   "cell_type": "code",
   "execution_count": null,
   "id": "394681c6",
   "metadata": {},
   "outputs": [],
   "source": [
    "def fixoutliers(x):\n",
    "\n",
    "    ##Get all the column name from the input dataframe x\n",
    "    xColumnNames=x.columns\n",
    "    print(xColumnNames)\n",
    "    #for j in df2ColumnNames:\n",
    "\n",
    "    for j in xColumnNames:\n",
    "        try:\n",
    "            print(\"colnames \",j)\n",
    "            xy=x[j]    \n",
    "            mydata=pd.DataFrame()\n",
    "            #print(xy)\n",
    "            updated=[]\n",
    "            Q1,Q3=np.percentile(xy,[25,75])\n",
    "            IQR=Q3-Q1\n",
    "            minimum=Q1-1.5*IQR\n",
    "            maximum=Q3+1.5*IQR\n",
    "            for i in xy:\n",
    "                if(i>maximum):\n",
    "                    print(\"Entering maxim\")\n",
    "                    i=maximum\n",
    "                    updated.append(i)\n",
    "                elif(i<minimum):\n",
    "                    print(\"enterinf minimum\")\n",
    "                    i=minimum\n",
    "                    updated.append(i)\n",
    "                else:\n",
    "                    updated.append(i)\n",
    "            x[j]=updated\n",
    "        except:\n",
    "            continue\n",
    "    return x"
   ]
  },
  {
   "cell_type": "code",
   "execution_count": null,
   "id": "9abf1034",
   "metadata": {},
   "outputs": [],
   "source": [
    "fig, ax = plt.subplots(figsize=(15,10))\n",
    "sns.boxplot(data=data, width= 0.5,ax=ax,  fliersize=3)"
   ]
  },
  {
   "cell_type": "code",
   "execution_count": null,
   "id": "e67c04ce",
   "metadata": {},
   "outputs": [],
   "source": [
    "plotvarible(data, \"PAY_AMT6\")"
   ]
  },
  {
   "cell_type": "markdown",
   "id": "d20295fa",
   "metadata": {},
   "source": [
    "# Feature Selection- Correlation"
   ]
  },
  {
   "cell_type": "code",
   "execution_count": null,
   "id": "fff26837",
   "metadata": {},
   "outputs": [],
   "source": [
    "# Finding out the correlation between the features\n",
    "corr = credit_data.corr()\n",
    "corr"
   ]
  },
  {
   "cell_type": "code",
   "execution_count": null,
   "id": "3bfdf26b",
   "metadata": {},
   "outputs": [],
   "source": [
    "# Plotting the heatmap of correlation between features\n",
    "plt.figure(figsize=(20,20))\n",
    "sns.heatmap(corr, cbar=True, square= True, fmt='.1f', annot=True, annot_kws={'size':15})\n",
    "\n",
    "plt.savefig('correlation Heatmap plot.png')"
   ]
  },
  {
   "cell_type": "markdown",
   "id": "025ff25a",
   "metadata": {},
   "source": [
    "A heat map is a two-dimensional representation of data in which values are represented by colors. Correlation Heat map is a two dimensional plot of the amount of correlation (measure of dependence) between variables represented by colors. The varying intensity of color represents the measure of correlation. Correlation is a measure of linear relationship between two variables. Correlation between two variables can also be determined using scatter plot between these two variables. When there are multiple variables, and we want to find the correlation between all of them, a matrix data structure called correlation matrix is used. Correlation values ranges from -1 to +1."
   ]
  },
  {
   "cell_type": "code",
   "execution_count": null,
   "id": "e1338de8",
   "metadata": {},
   "outputs": [],
   "source": [
    "#Using Pearson Correlation\n",
    "plt.figure(figsize=(12,10))\n",
    "corr = credit_data.corr()\n",
    "sns.heatmap(corr, annot=True, cmap=plt.cm.CMRmap_r)\n",
    "plt.show()"
   ]
  },
  {
   "cell_type": "code",
   "execution_count": null,
   "id": "cacef7b7",
   "metadata": {},
   "outputs": [],
   "source": [
    "# with the following function we can select highly correlated features\n",
    "# it will remove the first feature that is correlated with anything other feature\n",
    "\n",
    "def correlation(dataset, threshold):\n",
    "    col_corr = set()  # Set of all the names of correlated columns\n",
    "    corr_matrix = dataset.corr()\n",
    "    for i in range(len(corr_matrix.columns)):\n",
    "        for j in range(i):\n",
    "            if abs(corr_matrix.iloc[i, j]) > threshold: # we are interested in absolute coeff value\n",
    "                colname = corr_matrix.columns[i]  # getting the name of column\n",
    "                col_corr.add(colname)\n",
    "    return col_corr"
   ]
  },
  {
   "cell_type": "code",
   "execution_count": null,
   "id": "5d24829f",
   "metadata": {},
   "outputs": [],
   "source": [
    "correlation(credit_data, 0.70)"
   ]
  },
  {
   "cell_type": "code",
   "execution_count": null,
   "id": "2557ba2f",
   "metadata": {},
   "outputs": [],
   "source": []
  },
  {
   "cell_type": "code",
   "execution_count": null,
   "id": "ccd2fa70",
   "metadata": {},
   "outputs": [],
   "source": [
    "outliers = []\n",
    "def detect_outliers_iqr(data):\n",
    "    data = sorted(data)\n",
    "    q1 = np.percentile(data, 25)\n",
    "    q3 = np.percentile(data, 75)\n",
    "    # print(q1, q3)\n",
    "    IQR = q3-q1\n",
    "    lwr_bound = q1-(1.5*IQR)\n",
    "    upr_bound = q3+(1.5*IQR)\n",
    "    # print(lwr_bound, upr_bound)\n",
    "    for i in data: \n",
    "        if (i<lwr_bound or i>upr_bound):\n",
    "            outliers.append(i)\n",
    "    return outliers  # Driver code\n",
    "\n",
    "median = np.median(sample) # Replace with median\n",
    "\n",
    "for i in sample_outliers:\n",
    "    \n",
    "    c = np.where(sample==i, 14, sample)\n",
    "    \n",
    "print(\"Sample: \", sample)"
   ]
  },
  {
   "cell_type": "code",
   "execution_count": null,
   "id": "7106d688",
   "metadata": {},
   "outputs": [],
   "source": [
    "def detect_outliers_iqr(data):\n",
    "    # taking 5,25,75 percentile of column\n",
    "    q5= np.percentile(x,5)\n",
    "    q25=np.percentile(x,25)\n",
    "    q75=np.percentile(x,75)\n",
    "    dt=np.percentile(x,95)\n",
    "    #calculationg IQR range\n",
    "    IQR=Q3-Q1\n",
    "    #Calculating minimum threshold\n",
    "    min=q25-(1.5*IQR)\n",
    "    max=q75+(1.5*IQR)\n",
    "    #Calculating maximum threshold\n",
    "    for i in x:\n",
    "        if x[i] > max:\n",
    "            x[i].replace(x[i],dt)\n",
    "        elif x[i] < min:\n",
    "            x[i].replace(x[i],q5)\n",
    "        else:\n",
    "            x[i]\n",
    "    print(q5,q25,q75,dt,min,max)\n",
    "\n",
    "    return"
   ]
  },
  {
   "cell_type": "code",
   "execution_count": null,
   "id": "74536b8b",
   "metadata": {},
   "outputs": [],
   "source": []
  },
  {
   "cell_type": "code",
   "execution_count": null,
   "id": "d626e9a4",
   "metadata": {},
   "outputs": [],
   "source": []
  },
  {
   "cell_type": "code",
   "execution_count": null,
   "id": "c41da89c",
   "metadata": {},
   "outputs": [],
   "source": []
  },
  {
   "cell_type": "code",
   "execution_count": null,
   "id": "61f3d476",
   "metadata": {},
   "outputs": [],
   "source": []
  },
  {
   "cell_type": "code",
   "execution_count": null,
   "id": "46000561",
   "metadata": {},
   "outputs": [],
   "source": []
  },
  {
   "cell_type": "code",
   "execution_count": null,
   "id": "104e2ae3",
   "metadata": {},
   "outputs": [],
   "source": []
  },
  {
   "cell_type": "code",
   "execution_count": null,
   "id": "12bd9c2e",
   "metadata": {},
   "outputs": [],
   "source": []
  },
  {
   "cell_type": "code",
   "execution_count": null,
   "id": "3ce50e70",
   "metadata": {},
   "outputs": [],
   "source": []
  },
  {
   "cell_type": "code",
   "execution_count": null,
   "id": "da5728c9",
   "metadata": {},
   "outputs": [],
   "source": []
  },
  {
   "cell_type": "code",
   "execution_count": null,
   "id": "3663bb9d",
   "metadata": {},
   "outputs": [],
   "source": []
  },
  {
   "cell_type": "code",
   "execution_count": null,
   "id": "06089808",
   "metadata": {},
   "outputs": [],
   "source": []
  },
  {
   "cell_type": "code",
   "execution_count": null,
   "id": "e01ecb12",
   "metadata": {},
   "outputs": [],
   "source": []
  },
  {
   "cell_type": "code",
   "execution_count": null,
   "id": "8f885bca",
   "metadata": {},
   "outputs": [],
   "source": []
  },
  {
   "cell_type": "code",
   "execution_count": null,
   "id": "5e8d2f82",
   "metadata": {},
   "outputs": [],
   "source": []
  },
  {
   "cell_type": "code",
   "execution_count": null,
   "id": "0d0d5361",
   "metadata": {},
   "outputs": [],
   "source": []
  },
  {
   "cell_type": "code",
   "execution_count": null,
   "id": "7173216b",
   "metadata": {},
   "outputs": [],
   "source": []
  }
 ],
 "metadata": {
  "kernelspec": {
   "display_name": "Python 3 (ipykernel)",
   "language": "python",
   "name": "python3"
  },
  "language_info": {
   "codemirror_mode": {
    "name": "ipython",
    "version": 3
   },
   "file_extension": ".py",
   "mimetype": "text/x-python",
   "name": "python",
   "nbconvert_exporter": "python",
   "pygments_lexer": "ipython3",
   "version": "3.9.7"
  }
 },
 "nbformat": 4,
 "nbformat_minor": 5
}
