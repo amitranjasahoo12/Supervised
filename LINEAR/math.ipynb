{
 "cells": [
  {
   "cell_type": "markdown",
   "id": "05a4e960",
   "metadata": {},
   "source": [
    "# A Practical Tutorial to Simple Linear Regression Using Python"
   ]
  },
  {
   "cell_type": "markdown",
   "id": "c0123f49",
   "metadata": {},
   "source": [
    "### Machine Learning (ML): ML is an application of Artificial Intelligence (AI) that provides systems the ability to automatically learn themselves and improve from the experience without being explicitly programmed. ML focuses on the development of computer programs that can access data and use it to learn themselves."
   ]
  },
  {
   "cell_type": "markdown",
   "id": "4f15da4f",
   "metadata": {},
   "source": [
    "### Data Set: A collection of related sets of information that is composed of separate elements but can be manipulated as a unit by a computer."
   ]
  },
  {
   "cell_type": "markdown",
   "id": "fd5b0175",
   "metadata": {},
   "source": [
    "### Data Visualisation: It is a representation of data or information in a graph, chart, or other visual formats which is helpful to conduct analyses such as predictive analysis which can serve as helpful Visualisation to present."
   ]
  },
  {
   "cell_type": "markdown",
   "id": "541dee0a",
   "metadata": {},
   "source": [
    "### Data Cleaning: It is the process of fixing or removing incorrect, corrupted, incorrectly formatted, duplicate, or incomplete data within a dataset."
   ]
  },
  {
   "cell_type": "markdown",
   "id": "d7085a51",
   "metadata": {},
   "source": [
    "### Supervised Learning:  The model is trained using ‘labeled data’. Datasets are said to contain labels that contain both input and output parameters. To simplify – ‘Data is already tagged with the correct answer’."
   ]
  },
  {
   "cell_type": "markdown",
   "id": "a385e4a1",
   "metadata": {},
   "source": [
    "### Simple Linear Regression: It is a Regression Model that estimates the relationship between the independent variable and the dependent variable using a straight line [y = mx + c], where both the variables should be quantitative."
   ]
  },
  {
   "cell_type": "markdown",
   "id": "64d0b1ac",
   "metadata": {},
   "source": [
    "### Models: Those are output by algorithms and are comprised of model data and a prediction algorithm."
   ]
  },
  {
   "cell_type": "markdown",
   "id": "121c0095",
   "metadata": {},
   "source": [
    "### Training Model: In supervised learning, an ML Algorithm builds a model by examining many examples and attempting to find a model that minimizes loss and improves prediction accuracy."
   ]
  },
  {
   "cell_type": "markdown",
   "id": "c20c8b41",
   "metadata": {},
   "source": [
    "# The steps involved are:\n",
    "1. Importing the dataset.\n",
    "\n",
    "2. Visualising the Data\n",
    "\n",
    "3. Data Cleaning\n",
    "\n",
    "4. Build the Model and Train it\n",
    "\n",
    "5. Make Predictions on Unseen Data"
   ]
  },
  {
   "cell_type": "code",
   "execution_count": 1,
   "id": "f9f04809",
   "metadata": {},
   "outputs": [],
   "source": [
    "import pandas as pd\n",
    "import numpy as np\n",
    "import matplotlib.pyplot as plt\n",
    "import seaborn as sns\n",
    "%matplotlib inline"
   ]
  },
  {
   "cell_type": "markdown",
   "id": "995c01a4",
   "metadata": {},
   "source": [
    "# Importing Data Set:"
   ]
  },
  {
   "cell_type": "code",
   "execution_count": 4,
   "id": "fd8ca669",
   "metadata": {},
   "outputs": [],
   "source": [
    "Data_Set = pd.read_pickle(\"AgesAndHeights.pkl\")"
   ]
  },
  {
   "cell_type": "code",
   "execution_count": 6,
   "id": "75439251",
   "metadata": {},
   "outputs": [
    {
     "data": {
      "text/html": [
       "<div>\n",
       "<style scoped>\n",
       "    .dataframe tbody tr th:only-of-type {\n",
       "        vertical-align: middle;\n",
       "    }\n",
       "\n",
       "    .dataframe tbody tr th {\n",
       "        vertical-align: top;\n",
       "    }\n",
       "\n",
       "    .dataframe thead th {\n",
       "        text-align: right;\n",
       "    }\n",
       "</style>\n",
       "<table border=\"1\" class=\"dataframe\">\n",
       "  <thead>\n",
       "    <tr style=\"text-align: right;\">\n",
       "      <th></th>\n",
       "      <th>Age</th>\n",
       "      <th>Height</th>\n",
       "    </tr>\n",
       "  </thead>\n",
       "  <tbody>\n",
       "    <tr>\n",
       "      <th>0</th>\n",
       "      <td>14.767874</td>\n",
       "      <td>59.627484</td>\n",
       "    </tr>\n",
       "    <tr>\n",
       "      <th>1</th>\n",
       "      <td>3.107671</td>\n",
       "      <td>36.146453</td>\n",
       "    </tr>\n",
       "    <tr>\n",
       "      <th>2</th>\n",
       "      <td>7.266917</td>\n",
       "      <td>46.912878</td>\n",
       "    </tr>\n",
       "    <tr>\n",
       "      <th>3</th>\n",
       "      <td>1.815180</td>\n",
       "      <td>29.125660</td>\n",
       "    </tr>\n",
       "    <tr>\n",
       "      <th>4</th>\n",
       "      <td>16.753758</td>\n",
       "      <td>68.170414</td>\n",
       "    </tr>\n",
       "    <tr>\n",
       "      <th>...</th>\n",
       "      <td>...</td>\n",
       "      <td>...</td>\n",
       "    </tr>\n",
       "    <tr>\n",
       "      <th>95</th>\n",
       "      <td>7.323712</td>\n",
       "      <td>46.857505</td>\n",
       "    </tr>\n",
       "    <tr>\n",
       "      <th>96</th>\n",
       "      <td>5.591509</td>\n",
       "      <td>39.339990</td>\n",
       "    </tr>\n",
       "    <tr>\n",
       "      <th>97</th>\n",
       "      <td>2.625606</td>\n",
       "      <td>32.918925</td>\n",
       "    </tr>\n",
       "    <tr>\n",
       "      <th>98</th>\n",
       "      <td>5.519293</td>\n",
       "      <td>40.704154</td>\n",
       "    </tr>\n",
       "    <tr>\n",
       "      <th>99</th>\n",
       "      <td>13.117413</td>\n",
       "      <td>55.177407</td>\n",
       "    </tr>\n",
       "  </tbody>\n",
       "</table>\n",
       "<p>100 rows × 2 columns</p>\n",
       "</div>"
      ],
      "text/plain": [
       "          Age     Height\n",
       "0   14.767874  59.627484\n",
       "1    3.107671  36.146453\n",
       "2    7.266917  46.912878\n",
       "3    1.815180  29.125660\n",
       "4   16.753758  68.170414\n",
       "..        ...        ...\n",
       "95   7.323712  46.857505\n",
       "96   5.591509  39.339990\n",
       "97   2.625606  32.918925\n",
       "98   5.519293  40.704154\n",
       "99  13.117413  55.177407\n",
       "\n",
       "[100 rows x 2 columns]"
      ]
     },
     "execution_count": 6,
     "metadata": {},
     "output_type": "execute_result"
    }
   ],
   "source": [
    "Data_Set"
   ]
  },
  {
   "cell_type": "code",
   "execution_count": 8,
   "id": "4e8b517c",
   "metadata": {},
   "outputs": [
    {
     "data": {
      "text/plain": [
       "(100, 2)"
      ]
     },
     "execution_count": 8,
     "metadata": {},
     "output_type": "execute_result"
    }
   ],
   "source": [
    "Data_Set.shape"
   ]
  },
  {
   "cell_type": "code",
   "execution_count": 11,
   "id": "40f84904",
   "metadata": {},
   "outputs": [
    {
     "data": {
      "text/plain": [
       "Index(['Age', 'Height'], dtype='object')"
      ]
     },
     "execution_count": 11,
     "metadata": {},
     "output_type": "execute_result"
    }
   ],
   "source": [
    "Data_Set.columns"
   ]
  },
  {
   "cell_type": "code",
   "execution_count": 13,
   "id": "2fa8eaaf",
   "metadata": {},
   "outputs": [
    {
     "name": "stdout",
     "output_type": "stream",
     "text": [
      "<class 'pandas.core.frame.DataFrame'>\n",
      "RangeIndex: 100 entries, 0 to 99\n",
      "Data columns (total 2 columns):\n",
      " #   Column  Non-Null Count  Dtype  \n",
      "---  ------  --------------  -----  \n",
      " 0   Age     100 non-null    float64\n",
      " 1   Height  100 non-null    float64\n",
      "dtypes: float64(2)\n",
      "memory usage: 1.7 KB\n"
     ]
    }
   ],
   "source": [
    "Data_Set.info()"
   ]
  },
  {
   "cell_type": "code",
   "execution_count": 14,
   "id": "3af1f403",
   "metadata": {},
   "outputs": [
    {
     "data": {
      "text/plain": [
       "<bound method DataFrame.info of           Age     Height\n",
       "0   14.767874  59.627484\n",
       "1    3.107671  36.146453\n",
       "2    7.266917  46.912878\n",
       "3    1.815180  29.125660\n",
       "4   16.753758  68.170414\n",
       "..        ...        ...\n",
       "95   7.323712  46.857505\n",
       "96   5.591509  39.339990\n",
       "97   2.625606  32.918925\n",
       "98   5.519293  40.704154\n",
       "99  13.117413  55.177407\n",
       "\n",
       "[100 rows x 2 columns]>"
      ]
     },
     "execution_count": 14,
     "metadata": {},
     "output_type": "execute_result"
    }
   ],
   "source": [
    "Data_Set.info"
   ]
  },
  {
   "cell_type": "code",
   "execution_count": 16,
   "id": "e34f9980",
   "metadata": {},
   "outputs": [
    {
     "data": {
      "text/html": [
       "<div>\n",
       "<style scoped>\n",
       "    .dataframe tbody tr th:only-of-type {\n",
       "        vertical-align: middle;\n",
       "    }\n",
       "\n",
       "    .dataframe tbody tr th {\n",
       "        vertical-align: top;\n",
       "    }\n",
       "\n",
       "    .dataframe thead th {\n",
       "        text-align: right;\n",
       "    }\n",
       "</style>\n",
       "<table border=\"1\" class=\"dataframe\">\n",
       "  <thead>\n",
       "    <tr style=\"text-align: right;\">\n",
       "      <th></th>\n",
       "      <th>Age</th>\n",
       "      <th>Height</th>\n",
       "    </tr>\n",
       "  </thead>\n",
       "  <tbody>\n",
       "    <tr>\n",
       "      <th>count</th>\n",
       "      <td>100.000000</td>\n",
       "      <td>100.000000</td>\n",
       "    </tr>\n",
       "    <tr>\n",
       "      <th>mean</th>\n",
       "      <td>7.966138</td>\n",
       "      <td>45.955674</td>\n",
       "    </tr>\n",
       "    <tr>\n",
       "      <th>std</th>\n",
       "      <td>5.321621</td>\n",
       "      <td>10.787318</td>\n",
       "    </tr>\n",
       "    <tr>\n",
       "      <th>min</th>\n",
       "      <td>-0.780853</td>\n",
       "      <td>27.332513</td>\n",
       "    </tr>\n",
       "    <tr>\n",
       "      <th>25%</th>\n",
       "      <td>3.048885</td>\n",
       "      <td>36.320107</td>\n",
       "    </tr>\n",
       "    <tr>\n",
       "      <th>50%</th>\n",
       "      <td>7.795597</td>\n",
       "      <td>46.178251</td>\n",
       "    </tr>\n",
       "    <tr>\n",
       "      <th>75%</th>\n",
       "      <td>11.464331</td>\n",
       "      <td>53.994166</td>\n",
       "    </tr>\n",
       "    <tr>\n",
       "      <th>max</th>\n",
       "      <td>17.887852</td>\n",
       "      <td>68.170414</td>\n",
       "    </tr>\n",
       "  </tbody>\n",
       "</table>\n",
       "</div>"
      ],
      "text/plain": [
       "              Age      Height\n",
       "count  100.000000  100.000000\n",
       "mean     7.966138   45.955674\n",
       "std      5.321621   10.787318\n",
       "min     -0.780853   27.332513\n",
       "25%      3.048885   36.320107\n",
       "50%      7.795597   46.178251\n",
       "75%     11.464331   53.994166\n",
       "max     17.887852   68.170414"
      ]
     },
     "execution_count": 16,
     "metadata": {},
     "output_type": "execute_result"
    }
   ],
   "source": [
    "Data_Set.describe()"
   ]
  },
  {
   "cell_type": "code",
   "execution_count": 17,
   "id": "981f3cbe",
   "metadata": {},
   "outputs": [
    {
     "data": {
      "text/html": [
       "<div>\n",
       "<style scoped>\n",
       "    .dataframe tbody tr th:only-of-type {\n",
       "        vertical-align: middle;\n",
       "    }\n",
       "\n",
       "    .dataframe tbody tr th {\n",
       "        vertical-align: top;\n",
       "    }\n",
       "\n",
       "    .dataframe thead th {\n",
       "        text-align: right;\n",
       "    }\n",
       "</style>\n",
       "<table border=\"1\" class=\"dataframe\">\n",
       "  <thead>\n",
       "    <tr style=\"text-align: right;\">\n",
       "      <th></th>\n",
       "      <th>Age</th>\n",
       "      <th>Height</th>\n",
       "    </tr>\n",
       "  </thead>\n",
       "  <tbody>\n",
       "    <tr>\n",
       "      <th>0</th>\n",
       "      <td>False</td>\n",
       "      <td>False</td>\n",
       "    </tr>\n",
       "    <tr>\n",
       "      <th>1</th>\n",
       "      <td>False</td>\n",
       "      <td>False</td>\n",
       "    </tr>\n",
       "    <tr>\n",
       "      <th>2</th>\n",
       "      <td>False</td>\n",
       "      <td>False</td>\n",
       "    </tr>\n",
       "    <tr>\n",
       "      <th>3</th>\n",
       "      <td>False</td>\n",
       "      <td>False</td>\n",
       "    </tr>\n",
       "    <tr>\n",
       "      <th>4</th>\n",
       "      <td>False</td>\n",
       "      <td>False</td>\n",
       "    </tr>\n",
       "    <tr>\n",
       "      <th>...</th>\n",
       "      <td>...</td>\n",
       "      <td>...</td>\n",
       "    </tr>\n",
       "    <tr>\n",
       "      <th>95</th>\n",
       "      <td>False</td>\n",
       "      <td>False</td>\n",
       "    </tr>\n",
       "    <tr>\n",
       "      <th>96</th>\n",
       "      <td>False</td>\n",
       "      <td>False</td>\n",
       "    </tr>\n",
       "    <tr>\n",
       "      <th>97</th>\n",
       "      <td>False</td>\n",
       "      <td>False</td>\n",
       "    </tr>\n",
       "    <tr>\n",
       "      <th>98</th>\n",
       "      <td>False</td>\n",
       "      <td>False</td>\n",
       "    </tr>\n",
       "    <tr>\n",
       "      <th>99</th>\n",
       "      <td>False</td>\n",
       "      <td>False</td>\n",
       "    </tr>\n",
       "  </tbody>\n",
       "</table>\n",
       "<p>100 rows × 2 columns</p>\n",
       "</div>"
      ],
      "text/plain": [
       "      Age  Height\n",
       "0   False   False\n",
       "1   False   False\n",
       "2   False   False\n",
       "3   False   False\n",
       "4   False   False\n",
       "..    ...     ...\n",
       "95  False   False\n",
       "96  False   False\n",
       "97  False   False\n",
       "98  False   False\n",
       "99  False   False\n",
       "\n",
       "[100 rows x 2 columns]"
      ]
     },
     "execution_count": 17,
     "metadata": {},
     "output_type": "execute_result"
    }
   ],
   "source": [
    "Data_Set.isnull()"
   ]
  },
  {
   "cell_type": "code",
   "execution_count": 22,
   "id": "29757066",
   "metadata": {},
   "outputs": [
    {
     "data": {
      "text/plain": [
       "<AxesSubplot:>"
      ]
     },
     "execution_count": 22,
     "metadata": {},
     "output_type": "execute_result"
    },
    {
     "data": {
      "image/png": "[encoded data removed]",
      "text/plain": [
       "<Figure size 432x288 with 2 Axes>"
      ]
     },
     "metadata": {
      "needs_background": "light"
     },
     "output_type": "display_data"
    }
   ],
   "source": [
    "sns.heatmap(Data_Set.isnull(),yticklabels=False, cbar=True)"
   ]
  },
  {
   "cell_type": "code",
   "execution_count": 25,
   "id": "8a2f8217",
   "metadata": {},
   "outputs": [
    {
     "data": {
      "text/plain": [
       "Age       0\n",
       "Height    0\n",
       "dtype: int64"
      ]
     },
     "execution_count": 25,
     "metadata": {},
     "output_type": "execute_result"
    }
   ],
   "source": [
    "Data_Set.isnull().sum()"
   ]
  },
  {
   "cell_type": "code",
   "execution_count": 26,
   "id": "b13d8605",
   "metadata": {},
   "outputs": [
    {
     "data": {
      "text/plain": [
       "array([[<AxesSubplot:title={'center':'Age'}>,\n",
       "        <AxesSubplot:title={'center':'Height'}>]], dtype=object)"
      ]
     },
     "execution_count": 26,
     "metadata": {},
     "output_type": "execute_result"
    },
    {
     "data": {
      "image/png": "[encoded data removed]",
      "text/plain": [
       "<Figure size 432x288 with 2 Axes>"
      ]
     },
     "metadata": {
      "needs_background": "light"
     },
     "output_type": "display_data"
    }
   ],
   "source": [
    "Data_Set.hist()"
   ]
  },
  {
   "cell_type": "markdown",
   "id": "42b66ecd",
   "metadata": {},
   "source": [
    "### This single line of code has a great impact on the way we look at the dataset. We only had a numerical view of the dataset but we can now run this cell to get a histogram view of the dataset which is very helpful. It represents the data present in the individual columns as individual graphs. The Y-axis in both the plots refers to frequency and X-axis represents Age and Height respectively."
   ]
  },
  {
   "cell_type": "markdown",
   "id": "ad124d50",
   "metadata": {},
   "source": [
    "# 3. Data Cleaning:\n",
    "We have to build the model using valid datasets and clean the unaccountable Data. In the above image, we can know that there are a few entries that have an age less than zero which is meaningless. Hence, we need to clean those data to get better accuracy. I  use variable cleaned_data to store the valid age values and display them to the user."
   ]
  },
  {
   "cell_type": "code",
   "execution_count": 64,
   "id": "979635e5",
   "metadata": {},
   "outputs": [
    {
     "data": {
      "text/plain": [
       "0     True\n",
       "1     True\n",
       "2     True\n",
       "3     True\n",
       "4     True\n",
       "      ... \n",
       "95    True\n",
       "96    True\n",
       "97    True\n",
       "98    True\n",
       "99    True\n",
       "Name: Age, Length: 100, dtype: bool"
      ]
     },
     "execution_count": 64,
     "metadata": {},
     "output_type": "execute_result"
    }
   ],
   "source": [
    "Data_Set[\"Age\"]>0"
   ]
  },
  {
   "cell_type": "code",
   "execution_count": 65,
   "id": "89a610cd",
   "metadata": {},
   "outputs": [],
   "source": [
    "Clean_Data= Data_Set[Data_Set[\"Age\"]>0]"
   ]
  },
  {
   "cell_type": "code",
   "execution_count": 66,
   "id": "1ab6c71a",
   "metadata": {},
   "outputs": [
    {
     "data": {
      "text/html": [
       "<div>\n",
       "<style scoped>\n",
       "    .dataframe tbody tr th:only-of-type {\n",
       "        vertical-align: middle;\n",
       "    }\n",
       "\n",
       "    .dataframe tbody tr th {\n",
       "        vertical-align: top;\n",
       "    }\n",
       "\n",
       "    .dataframe thead th {\n",
       "        text-align: right;\n",
       "    }\n",
       "</style>\n",
       "<table border=\"1\" class=\"dataframe\">\n",
       "  <thead>\n",
       "    <tr style=\"text-align: right;\">\n",
       "      <th></th>\n",
       "      <th>Age</th>\n",
       "      <th>Height</th>\n",
       "    </tr>\n",
       "  </thead>\n",
       "  <tbody>\n",
       "    <tr>\n",
       "      <th>0</th>\n",
       "      <td>14.767874</td>\n",
       "      <td>59.627484</td>\n",
       "    </tr>\n",
       "    <tr>\n",
       "      <th>1</th>\n",
       "      <td>3.107671</td>\n",
       "      <td>36.146453</td>\n",
       "    </tr>\n",
       "    <tr>\n",
       "      <th>2</th>\n",
       "      <td>7.266917</td>\n",
       "      <td>46.912878</td>\n",
       "    </tr>\n",
       "    <tr>\n",
       "      <th>3</th>\n",
       "      <td>1.815180</td>\n",
       "      <td>29.125660</td>\n",
       "    </tr>\n",
       "    <tr>\n",
       "      <th>4</th>\n",
       "      <td>16.753758</td>\n",
       "      <td>68.170414</td>\n",
       "    </tr>\n",
       "    <tr>\n",
       "      <th>...</th>\n",
       "      <td>...</td>\n",
       "      <td>...</td>\n",
       "    </tr>\n",
       "    <tr>\n",
       "      <th>95</th>\n",
       "      <td>7.323712</td>\n",
       "      <td>46.857505</td>\n",
       "    </tr>\n",
       "    <tr>\n",
       "      <th>96</th>\n",
       "      <td>5.591509</td>\n",
       "      <td>39.339990</td>\n",
       "    </tr>\n",
       "    <tr>\n",
       "      <th>97</th>\n",
       "      <td>2.625606</td>\n",
       "      <td>32.918925</td>\n",
       "    </tr>\n",
       "    <tr>\n",
       "      <th>98</th>\n",
       "      <td>5.519293</td>\n",
       "      <td>40.704154</td>\n",
       "    </tr>\n",
       "    <tr>\n",
       "      <th>99</th>\n",
       "      <td>13.117413</td>\n",
       "      <td>55.177407</td>\n",
       "    </tr>\n",
       "  </tbody>\n",
       "</table>\n",
       "<p>93 rows × 2 columns</p>\n",
       "</div>"
      ],
      "text/plain": [
       "          Age     Height\n",
       "0   14.767874  59.627484\n",
       "1    3.107671  36.146453\n",
       "2    7.266917  46.912878\n",
       "3    1.815180  29.125660\n",
       "4   16.753758  68.170414\n",
       "..        ...        ...\n",
       "95   7.323712  46.857505\n",
       "96   5.591509  39.339990\n",
       "97   2.625606  32.918925\n",
       "98   5.519293  40.704154\n",
       "99  13.117413  55.177407\n",
       "\n",
       "[93 rows x 2 columns]"
      ]
     },
     "execution_count": 66,
     "metadata": {},
     "output_type": "execute_result"
    }
   ],
   "source": [
    "Clean_Data"
   ]
  },
  {
   "cell_type": "markdown",
   "id": "971cfd3a",
   "metadata": {},
   "source": [
    "### Initially, we had 100 rows but after performing Data Cleaning it’s pretty clear that there are seven rows which we had age < 0 and we have removed them. As a professional, we aren’t supposed to delete the data as we are reducing the data and thereby accuracy of our model gets reduced. To keep it simple I have just removed them."
   ]
  },
  {
   "cell_type": "markdown",
   "id": "5c249689",
   "metadata": {},
   "source": [
    "# Visualize the Cleaned Data: I have now used the cleaned data and visualized it in the form of a graph."
   ]
  },
  {
   "cell_type": "code",
   "execution_count": 67,
   "id": "0a3a4c10",
   "metadata": {},
   "outputs": [],
   "source": [
    "import matplotlib.pyplot as plt"
   ]
  },
  {
   "cell_type": "code",
   "execution_count": 68,
   "id": "0a05a008",
   "metadata": {},
   "outputs": [
    {
     "data": {
      "text/plain": [
       "<AxesSubplot:xlabel='Age', ylabel='Height'>"
      ]
     },
     "execution_count": 68,
     "metadata": {},
     "output_type": "execute_result"
    },
    {
     "data": {
      "image/png": "[encoded data removed]",
      "text/plain": [
       "<Figure size 432x288 with 1 Axes>"
      ]
     },
     "metadata": {
      "needs_background": "light"
     },
     "output_type": "display_data"
    }
   ],
   "source": [
    "Data_Set.plot(kind=\"scatter\", y='Height', x = 'Age')"
   ]
  },
  {
   "cell_type": "markdown",
   "id": "c4eaf33c",
   "metadata": {},
   "source": [
    "### To plot graphs in python I import matplotlib.pyplot library. I represent Age on X-axis and Height on Y-axis. The points in the plot refer to the Raw data."
   ]
  },
  {
   "cell_type": "code",
   "execution_count": 69,
   "id": "bda8f9e0",
   "metadata": {},
   "outputs": [
    {
     "data": {
      "text/plain": [
       "<matplotlib.legend.Legend at 0x1ddfc40a880>"
      ]
     },
     "execution_count": 69,
     "metadata": {},
     "output_type": "execute_result"
    },
    {
     "data": {
      "image/png": "[encoded data removed]",
      "text/plain": [
       "<Figure size 432x288 with 1 Axes>"
      ]
     },
     "metadata": {
      "needs_background": "light"
     },
     "output_type": "display_data"
    }
   ],
   "source": [
    "x = Clean_Data['Age']\n",
    "y= Clean_Data['Height']\n",
    "plt.scatter(x,y,label='Data Set')\n",
    "plt.title('Height Vs Age')\n",
    "plt.xlabel(\"Age[Years]\")\n",
    "plt.ylabel(\"Height[inches]\")\n",
    "plt.legend()\n"
   ]
  },
  {
   "cell_type": "code",
   "execution_count": 71,
   "id": "3920bf91",
   "metadata": {},
   "outputs": [
    {
     "data": {
      "text/plain": [
       "Age        8.595192\n",
       "Height    47.164420\n",
       "dtype: float64"
      ]
     },
     "execution_count": 71,
     "metadata": {},
     "output_type": "execute_result"
    }
   ],
   "source": [
    "Clean_Data.mean()"
   ]
  },
  {
   "cell_type": "code",
   "execution_count": 74,
   "id": "dc7a6be3",
   "metadata": {},
   "outputs": [
    {
     "data": {
      "text/plain": [
       "Age        8.595192\n",
       "Height    47.164420\n",
       "dtype: float64"
      ]
     },
     "execution_count": 74,
     "metadata": {},
     "output_type": "execute_result"
    }
   ],
   "source": [
    "Clean_Data.mean()"
   ]
  },
  {
   "cell_type": "code",
   "execution_count": 72,
   "id": "79de485c",
   "metadata": {},
   "outputs": [
    {
     "data": {
      "text/html": [
       "<div>\n",
       "<style scoped>\n",
       "    .dataframe tbody tr th:only-of-type {\n",
       "        vertical-align: middle;\n",
       "    }\n",
       "\n",
       "    .dataframe tbody tr th {\n",
       "        vertical-align: top;\n",
       "    }\n",
       "\n",
       "    .dataframe thead th {\n",
       "        text-align: right;\n",
       "    }\n",
       "</style>\n",
       "<table border=\"1\" class=\"dataframe\">\n",
       "  <thead>\n",
       "    <tr style=\"text-align: right;\">\n",
       "      <th></th>\n",
       "      <th>Age</th>\n",
       "      <th>Height</th>\n",
       "    </tr>\n",
       "  </thead>\n",
       "  <tbody>\n",
       "    <tr>\n",
       "      <th>0</th>\n",
       "      <td>0.195686</td>\n",
       "      <td>29.007696</td>\n",
       "    </tr>\n",
       "    <tr>\n",
       "      <th>1</th>\n",
       "      <td>0.751925</td>\n",
       "      <td>29.125660</td>\n",
       "    </tr>\n",
       "    <tr>\n",
       "      <th>2</th>\n",
       "      <td>0.768283</td>\n",
       "      <td>29.508468</td>\n",
       "    </tr>\n",
       "    <tr>\n",
       "      <th>3</th>\n",
       "      <td>0.812166</td>\n",
       "      <td>31.523500</td>\n",
       "    </tr>\n",
       "    <tr>\n",
       "      <th>4</th>\n",
       "      <td>0.859188</td>\n",
       "      <td>31.827347</td>\n",
       "    </tr>\n",
       "    <tr>\n",
       "      <th>...</th>\n",
       "      <td>...</td>\n",
       "      <td>...</td>\n",
       "    </tr>\n",
       "    <tr>\n",
       "      <th>88</th>\n",
       "      <td>16.859333</td>\n",
       "      <td>64.236387</td>\n",
       "    </tr>\n",
       "    <tr>\n",
       "      <th>89</th>\n",
       "      <td>17.327126</td>\n",
       "      <td>64.307845</td>\n",
       "    </tr>\n",
       "    <tr>\n",
       "      <th>90</th>\n",
       "      <td>17.343121</td>\n",
       "      <td>64.386212</td>\n",
       "    </tr>\n",
       "    <tr>\n",
       "      <th>91</th>\n",
       "      <td>17.393353</td>\n",
       "      <td>65.388501</td>\n",
       "    </tr>\n",
       "    <tr>\n",
       "      <th>92</th>\n",
       "      <td>17.887852</td>\n",
       "      <td>68.170414</td>\n",
       "    </tr>\n",
       "  </tbody>\n",
       "</table>\n",
       "<p>93 rows × 2 columns</p>\n",
       "</div>"
      ],
      "text/plain": [
       "          Age     Height\n",
       "0    0.195686  29.007696\n",
       "1    0.751925  29.125660\n",
       "2    0.768283  29.508468\n",
       "3    0.812166  31.523500\n",
       "4    0.859188  31.827347\n",
       "..        ...        ...\n",
       "88  16.859333  64.236387\n",
       "89  17.327126  64.307845\n",
       "90  17.343121  64.386212\n",
       "91  17.393353  65.388501\n",
       "92  17.887852  68.170414\n",
       "\n",
       "[93 rows x 2 columns]"
      ]
     },
     "execution_count": 72,
     "metadata": {},
     "output_type": "execute_result"
    }
   ],
   "source": [
    "Clean_Data.mode()"
   ]
  },
  {
   "cell_type": "code",
   "execution_count": 75,
   "id": "b8d0a13b",
   "metadata": {},
   "outputs": [
    {
     "data": {
      "text/plain": [
       "Age        8.43333\n",
       "Height    47.33275\n",
       "dtype: float64"
      ]
     },
     "execution_count": 75,
     "metadata": {},
     "output_type": "execute_result"
    }
   ],
   "source": [
    "Clean_Data.median()"
   ]
  },
  {
   "cell_type": "code",
   "execution_count": 76,
   "id": "33378130",
   "metadata": {},
   "outputs": [
    {
     "data": {
      "text/plain": [
       "Age        24.754880\n",
       "Height    103.836826\n",
       "dtype: float64"
      ]
     },
     "execution_count": 76,
     "metadata": {},
     "output_type": "execute_result"
    }
   ],
   "source": [
    "Clean_Data.var()"
   ]
  },
  {
   "cell_type": "code",
   "execution_count": 77,
   "id": "8664568a",
   "metadata": {},
   "outputs": [
    {
     "data": {
      "text/plain": [
       "Age        4.975428\n",
       "Height    10.190036\n",
       "dtype: float64"
      ]
     },
     "execution_count": 77,
     "metadata": {},
     "output_type": "execute_result"
    }
   ],
   "source": [
    "Clean_Data.std()"
   ]
  },
  {
   "cell_type": "code",
   "execution_count": 81,
   "id": "80fff200",
   "metadata": {},
   "outputs": [],
   "source": [
    "age = pd.DataFrame(Data_Set[\"Age\"])\n",
    "\n",
    "hght=pd.DataFrame(Data_Set[\"Height\"])"
   ]
  },
  {
   "cell_type": "code",
   "execution_count": 82,
   "id": "629b1d88",
   "metadata": {},
   "outputs": [],
   "source": [
    "from sklearn import linear_model as ml"
   ]
  },
  {
   "cell_type": "code",
   "execution_count": 83,
   "id": "e5414b48",
   "metadata": {},
   "outputs": [],
   "source": [
    "lin = ml.LinearRegression()"
   ]
  },
  {
   "cell_type": "code",
   "execution_count": 85,
   "id": "5d8283df",
   "metadata": {},
   "outputs": [],
   "source": [
    "model= lin.fit(age,hght)"
   ]
  },
  {
   "cell_type": "code",
   "execution_count": 87,
   "id": "4d0a1611",
   "metadata": {},
   "outputs": [
    {
     "data": {
      "text/plain": [
       "LinearRegression()"
      ]
     },
     "execution_count": 87,
     "metadata": {},
     "output_type": "execute_result"
    }
   ],
   "source": [
    "model"
   ]
  },
  {
   "cell_type": "code",
   "execution_count": 88,
   "id": "10c937bb",
   "metadata": {},
   "outputs": [
    {
     "data": {
      "text/plain": [
       "array([[1.9855967]])"
      ]
     },
     "execution_count": 88,
     "metadata": {},
     "output_type": "execute_result"
    }
   ],
   "source": [
    "model.coef_"
   ]
  },
  {
   "cell_type": "code",
   "execution_count": 89,
   "id": "e3a19b92",
   "metadata": {},
   "outputs": [
    {
     "data": {
      "text/plain": [
       "array([30.13813668])"
      ]
     },
     "execution_count": 89,
     "metadata": {},
     "output_type": "execute_result"
    }
   ],
   "source": [
    "model.intercept_"
   ]
  },
  {
   "cell_type": "code",
   "execution_count": 91,
   "id": "df1b244a",
   "metadata": {},
   "outputs": [
    {
     "data": {
      "text/plain": [
       "0.9594955233989455"
      ]
     },
     "execution_count": 91,
     "metadata": {},
     "output_type": "execute_result"
    }
   ],
   "source": [
    "model.score(age,hght)"
   ]
  },
  {
   "cell_type": "code",
   "execution_count": 92,
   "id": "68d86a24",
   "metadata": {},
   "outputs": [
    {
     "ename": "AttributeError",
     "evalue": "'LinearRegression' object has no attribute 'summery'",
     "output_type": "error",
     "traceback": [
      "\u001b[1;31m---------------------------------------------------------------------------\u001b[0m",
      "\u001b[1;31mAttributeError\u001b[0m                            Traceback (most recent call last)",
      "\u001b[1;32m<ipython-input-92-db0b850edd7e>\u001b[0m in \u001b[0;36m<module>\u001b[1;34m\u001b[0m\n\u001b[1;32m----> 1\u001b[1;33m \u001b[0mmodel\u001b[0m\u001b[1;33m.\u001b[0m\u001b[0msummery\u001b[0m\u001b[1;33m\u001b[0m\u001b[1;33m\u001b[0m\u001b[0m\n\u001b[0m",
      "\u001b[1;31mAttributeError\u001b[0m: 'LinearRegression' object has no attribute 'summery'"
     ]
    }
   ],
   "source": [
    "model.summery"
   ]
  },
  {
   "cell_type": "code",
   "execution_count": null,
   "id": "f459c3b8",
   "metadata": {},
   "outputs": [],
   "source": []
  }
 ],
 "metadata": {
  "kernelspec": {
   "display_name": "Python 3",
   "language": "python",
   "name": "python3"
  },
  "language_info": {
   "codemirror_mode": {
    "name": "ipython",
    "version": 3
   },
   "file_extension": ".py",
   "mimetype": "text/x-python",
   "name": "python",
   "nbconvert_exporter": "python",
   "pygments_lexer": "ipython3",
   "version": "3.8.8"
  }
 },
 "nbformat": 4,
 "nbformat_minor": 5
}
